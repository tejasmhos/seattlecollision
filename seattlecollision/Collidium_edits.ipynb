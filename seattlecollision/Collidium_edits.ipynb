{
 "cells": [
  {
   "cell_type": "code",
   "execution_count": 12,
   "metadata": {},
   "outputs": [],
   "source": [
    "import branca\n",
    "import csv\n",
    "import datetime\n",
    "import folium\n",
    "import sqlite3\n",
    "import ipywidgets as widgets\n",
    "import numpy as np\n",
    "import pandas as pd\n",
    "import draw_markers\n",
    "import interactions_functionality as int_func\n",
    "from query_class import CollidiumQuery\n"
   ]
  },
  {
   "cell_type": "code",
   "execution_count": 13,
   "metadata": {},
   "outputs": [],
   "source": [
    "SQL_CURSOR = int_func.generate_connection(data_directory=\"data/\", db_name=\"data/Collidium\")"
   ]
  },
  {
   "cell_type": "code",
   "execution_count": 14,
   "metadata": {},
   "outputs": [
    {
     "data": {
      "text/html": [
       "<div>\n",
       "<style scoped>\n",
       "    .dataframe tbody tr th:only-of-type {\n",
       "        vertical-align: middle;\n",
       "    }\n",
       "\n",
       "    .dataframe tbody tr th {\n",
       "        vertical-align: top;\n",
       "    }\n",
       "\n",
       "    .dataframe thead th {\n",
       "        text-align: right;\n",
       "    }\n",
       "</style>\n",
       "<table border=\"1\" class=\"dataframe\">\n",
       "  <thead>\n",
       "    <tr style=\"text-align: right;\">\n",
       "      <th></th>\n",
       "      <th>b_category</th>\n",
       "      <th>b_end_dt</th>\n",
       "      <th>b_id</th>\n",
       "      <th>b_lat</th>\n",
       "      <th>b_long</th>\n",
       "      <th>b_start_dt</th>\n",
       "      <th>base_year</th>\n",
       "      <th>c_dt</th>\n",
       "      <th>c_id</th>\n",
       "      <th>c_lat</th>\n",
       "      <th>c_long</th>\n",
       "      <th>c_severity</th>\n",
       "      <th>c_type</th>\n",
       "      <th>coll_after</th>\n",
       "      <th>coll_before</th>\n",
       "      <th>coll_days_from_build</th>\n",
       "      <th>coll_during</th>\n",
       "      <th>radius</th>\n",
       "    </tr>\n",
       "  </thead>\n",
       "  <tbody>\n",
       "    <tr>\n",
       "      <th>0</th>\n",
       "      <td>COMMERCIAL</td>\n",
       "      <td>2016-11-23</td>\n",
       "      <td>6461320</td>\n",
       "      <td>47.674024</td>\n",
       "      <td>-122.263702</td>\n",
       "      <td>2016-01-27</td>\n",
       "      <td>2016</td>\n",
       "      <td>2015-02-24</td>\n",
       "      <td>162397931</td>\n",
       "      <td>47.673527</td>\n",
       "      <td>-122.266143</td>\n",
       "      <td>Property Damage Only</td>\n",
       "      <td>Vehicle Only</td>\n",
       "      <td>0</td>\n",
       "      <td>1</td>\n",
       "      <td>-337</td>\n",
       "      <td>0.0</td>\n",
       "      <td>628.108546</td>\n",
       "    </tr>\n",
       "    <tr>\n",
       "      <th>1</th>\n",
       "      <td>COMMERCIAL</td>\n",
       "      <td>2016-11-23</td>\n",
       "      <td>6461320</td>\n",
       "      <td>47.674024</td>\n",
       "      <td>-122.263702</td>\n",
       "      <td>2016-01-27</td>\n",
       "      <td>2016</td>\n",
       "      <td>2015-02-12</td>\n",
       "      <td>162398092</td>\n",
       "      <td>47.675722</td>\n",
       "      <td>-122.263545</td>\n",
       "      <td>Injury</td>\n",
       "      <td>Bike/Pedestrian</td>\n",
       "      <td>0</td>\n",
       "      <td>1</td>\n",
       "      <td>-349</td>\n",
       "      <td>0.0</td>\n",
       "      <td>620.793098</td>\n",
       "    </tr>\n",
       "    <tr>\n",
       "      <th>2</th>\n",
       "      <td>COMMERCIAL</td>\n",
       "      <td>2016-11-23</td>\n",
       "      <td>6461320</td>\n",
       "      <td>47.674024</td>\n",
       "      <td>-122.263702</td>\n",
       "      <td>2016-01-27</td>\n",
       "      <td>2016</td>\n",
       "      <td>2015-04-14</td>\n",
       "      <td>162401931</td>\n",
       "      <td>47.677543</td>\n",
       "      <td>-122.263576</td>\n",
       "      <td>Serious Injury</td>\n",
       "      <td>Vehicle Only</td>\n",
       "      <td>0</td>\n",
       "      <td>1</td>\n",
       "      <td>-288</td>\n",
       "      <td>0.0</td>\n",
       "      <td>1283.946426</td>\n",
       "    </tr>\n",
       "    <tr>\n",
       "      <th>3</th>\n",
       "      <td>COMMERCIAL</td>\n",
       "      <td>2016-11-23</td>\n",
       "      <td>6461320</td>\n",
       "      <td>47.674024</td>\n",
       "      <td>-122.263702</td>\n",
       "      <td>2016-01-27</td>\n",
       "      <td>2016</td>\n",
       "      <td>2015-04-28</td>\n",
       "      <td>162400501</td>\n",
       "      <td>47.672094</td>\n",
       "      <td>-122.261526</td>\n",
       "      <td>Property Damage Only</td>\n",
       "      <td>Vehicle Only</td>\n",
       "      <td>0</td>\n",
       "      <td>1</td>\n",
       "      <td>-274</td>\n",
       "      <td>0.0</td>\n",
       "      <td>884.997107</td>\n",
       "    </tr>\n",
       "    <tr>\n",
       "      <th>4</th>\n",
       "      <td>COMMERCIAL</td>\n",
       "      <td>2016-11-23</td>\n",
       "      <td>6461320</td>\n",
       "      <td>47.674024</td>\n",
       "      <td>-122.263702</td>\n",
       "      <td>2016-01-27</td>\n",
       "      <td>2016</td>\n",
       "      <td>2015-06-13</td>\n",
       "      <td>162402730</td>\n",
       "      <td>47.677543</td>\n",
       "      <td>-122.263576</td>\n",
       "      <td>Property Damage Only</td>\n",
       "      <td>Vehicle Only</td>\n",
       "      <td>0</td>\n",
       "      <td>1</td>\n",
       "      <td>-228</td>\n",
       "      <td>0.0</td>\n",
       "      <td>1283.946426</td>\n",
       "    </tr>\n",
       "  </tbody>\n",
       "</table>\n",
       "</div>"
      ],
      "text/plain": [
       "   b_category    b_end_dt     b_id      b_lat      b_long  b_start_dt  \\\n",
       "0  COMMERCIAL  2016-11-23  6461320  47.674024 -122.263702  2016-01-27   \n",
       "1  COMMERCIAL  2016-11-23  6461320  47.674024 -122.263702  2016-01-27   \n",
       "2  COMMERCIAL  2016-11-23  6461320  47.674024 -122.263702  2016-01-27   \n",
       "3  COMMERCIAL  2016-11-23  6461320  47.674024 -122.263702  2016-01-27   \n",
       "4  COMMERCIAL  2016-11-23  6461320  47.674024 -122.263702  2016-01-27   \n",
       "\n",
       "   base_year        c_dt       c_id      c_lat      c_long  \\\n",
       "0       2016  2015-02-24  162397931  47.673527 -122.266143   \n",
       "1       2016  2015-02-12  162398092  47.675722 -122.263545   \n",
       "2       2016  2015-04-14  162401931  47.677543 -122.263576   \n",
       "3       2016  2015-04-28  162400501  47.672094 -122.261526   \n",
       "4       2016  2015-06-13  162402730  47.677543 -122.263576   \n",
       "\n",
       "             c_severity           c_type  coll_after  coll_before  \\\n",
       "0  Property Damage Only     Vehicle Only           0            1   \n",
       "1                Injury  Bike/Pedestrian           0            1   \n",
       "2        Serious Injury     Vehicle Only           0            1   \n",
       "3  Property Damage Only     Vehicle Only           0            1   \n",
       "4  Property Damage Only     Vehicle Only           0            1   \n",
       "\n",
       "   coll_days_from_build  coll_during       radius  \n",
       "0                  -337          0.0   628.108546  \n",
       "1                  -349          0.0   620.793098  \n",
       "2                  -288          0.0  1283.946426  \n",
       "3                  -274          0.0   884.997107  \n",
       "4                  -228          0.0  1283.946426  "
      ]
     },
     "execution_count": 14,
     "metadata": {},
     "output_type": "execute_result"
    }
   ],
   "source": [
    "SQL_CURSOR.execute(\"SELECT * FROM collidium_data\")\n",
    "temp = pd.DataFrame(SQL_CURSOR.fetchall())\n",
    "temp.columns = list(map(lambda x: x[0], SQL_CURSOR.description))\n",
    "temp.head()"
   ]
  },
  {
   "cell_type": "code",
   "execution_count": 15,
   "metadata": {},
   "outputs": [
    {
     "data": {
      "text/plain": [
       "b_category               object\n",
       "b_end_dt                 object\n",
       "b_id                      int64\n",
       "b_lat                   float64\n",
       "b_long                  float64\n",
       "b_start_dt               object\n",
       "base_year                 int64\n",
       "c_dt                     object\n",
       "c_id                      int64\n",
       "c_lat                   float64\n",
       "c_long                  float64\n",
       "c_severity               object\n",
       "c_type                   object\n",
       "coll_after                int64\n",
       "coll_before               int64\n",
       "coll_days_from_build      int64\n",
       "coll_during             float64\n",
       "radius                  float64\n",
       "dtype: object"
      ]
     },
     "execution_count": 15,
     "metadata": {},
     "output_type": "execute_result"
    }
   ],
   "source": [
    "temp.dtypes"
   ]
  },
  {
   "cell_type": "code",
   "execution_count": 16,
   "metadata": {},
   "outputs": [],
   "source": [
    "cols_needed = [\"b_category\", \"base_year\",\"c_severity\", \"c_type\"]\n",
    "building_categories, building_years, collision_severity, collision_type = int_func.generate_categories(cols_needed)\n"
   ]
  },
  {
   "cell_type": "code",
   "execution_count": 17,
   "metadata": {},
   "outputs": [
    {
     "data": {
      "application/vnd.jupyter.widget-view+json": {
       "model_id": "41f54f3c4ed1400f8356d5b3ca0adb39",
       "version_major": 2,
       "version_minor": 0
      },
      "text/html": [
       "<p>Failed to display Jupyter Widget of type <code>interactive</code>.</p>\n",
       "<p>\n",
       "  If you're reading this message in the Jupyter Notebook or JupyterLab Notebook, it may mean\n",
       "  that the widgets JavaScript is still loading. If this message persists, it\n",
       "  likely means that the widgets JavaScript library is either not installed or\n",
       "  not enabled. See the <a href=\"https://ipywidgets.readthedocs.io/en/stable/user_install.html\">Jupyter\n",
       "  Widgets Documentation</a> for setup instructions.\n",
       "</p>\n",
       "<p>\n",
       "  If you're reading this message in another frontend (for example, a static\n",
       "  rendering on GitHub or <a href=\"https://nbviewer.jupyter.org/\">NBViewer</a>),\n",
       "  it may mean that your frontend doesn't currently support widgets.\n",
       "</p>\n"
      ],
      "text/plain": [
       "interactive(children=(Dropdown(description='building_category', options=('All', 'COMMERCIAL', 'MULTIFAMILY', 'INDUSTRIAL', 'INSTITUTIONAL', 'SINGLE FAMILY / DUPLEX'), value='All'), Output()), _dom_classes=('widget-interact',))"
      ]
     },
     "metadata": {},
     "output_type": "display_data"
    },
    {
     "data": {
      "text/plain": [
       "<function interactions_functionality.build_type_interact>"
      ]
     },
     "execution_count": 17,
     "metadata": {},
     "output_type": "execute_result"
    }
   ],
   "source": [
    "widgets.interact(int_func.build_type_interact, building_category = building_categories)\n"
   ]
  },
  {
   "cell_type": "code",
   "execution_count": 18,
   "metadata": {},
   "outputs": [
    {
     "data": {
      "application/vnd.jupyter.widget-view+json": {
       "model_id": "71afce4a11a24b14ace67523c0132332",
       "version_major": 2,
       "version_minor": 0
      },
      "text/html": [
       "<p>Failed to display Jupyter Widget of type <code>interactive</code>.</p>\n",
       "<p>\n",
       "  If you're reading this message in the Jupyter Notebook or JupyterLab Notebook, it may mean\n",
       "  that the widgets JavaScript is still loading. If this message persists, it\n",
       "  likely means that the widgets JavaScript library is either not installed or\n",
       "  not enabled. See the <a href=\"https://ipywidgets.readthedocs.io/en/stable/user_install.html\">Jupyter\n",
       "  Widgets Documentation</a> for setup instructions.\n",
       "</p>\n",
       "<p>\n",
       "  If you're reading this message in another frontend (for example, a static\n",
       "  rendering on GitHub or <a href=\"https://nbviewer.jupyter.org/\">NBViewer</a>),\n",
       "  it may mean that your frontend doesn't currently support widgets.\n",
       "</p>\n"
      ],
      "text/plain": [
       "interactive(children=(IntSlider(value=2016, description='building_year', max=2017, min=2014), IntSlider(value=12, description='collision_interval', max=12, min=1), Output()), _dom_classes=('widget-interact',))"
      ]
     },
     "metadata": {},
     "output_type": "display_data"
    },
    {
     "data": {
      "text/plain": [
       "<function interactions_functionality.year_int_interact>"
      ]
     },
     "execution_count": 18,
     "metadata": {},
     "output_type": "execute_result"
    }
   ],
   "source": [
    "widgets.interact(int_func.year_int_interact, building_year = widgets.IntSlider(min=2014, max=2017, step=1, value=2016), collision_interval = widgets.IntSlider(min=1, max=12, step=1, value=12))"
   ]
  },
  {
   "cell_type": "code",
   "execution_count": 19,
   "metadata": {},
   "outputs": [
    {
     "data": {
      "application/vnd.jupyter.widget-view+json": {
       "model_id": "ebbe708f719d4f5990bc331a6a4cc46e",
       "version_major": 2,
       "version_minor": 0
      },
      "text/html": [
       "<p>Failed to display Jupyter Widget of type <code>interactive</code>.</p>\n",
       "<p>\n",
       "  If you're reading this message in the Jupyter Notebook or JupyterLab Notebook, it may mean\n",
       "  that the widgets JavaScript is still loading. If this message persists, it\n",
       "  likely means that the widgets JavaScript library is either not installed or\n",
       "  not enabled. See the <a href=\"https://ipywidgets.readthedocs.io/en/stable/user_install.html\">Jupyter\n",
       "  Widgets Documentation</a> for setup instructions.\n",
       "</p>\n",
       "<p>\n",
       "  If you're reading this message in another frontend (for example, a static\n",
       "  rendering on GitHub or <a href=\"https://nbviewer.jupyter.org/\">NBViewer</a>),\n",
       "  it may mean that your frontend doesn't currently support widgets.\n",
       "</p>\n"
      ],
      "text/plain": [
       "interactive(children=(Dropdown(description='collision_severity', options=('All', 'Property Damage Only', 'Injury', 'Serious Injury', 'Fatality'), value='All'), Output()), _dom_classes=('widget-interact',))"
      ]
     },
     "metadata": {},
     "output_type": "display_data"
    },
    {
     "data": {
      "text/plain": [
       "<function interactions_functionality.collision_severity_interact>"
      ]
     },
     "execution_count": 19,
     "metadata": {},
     "output_type": "execute_result"
    }
   ],
   "source": [
    "widgets.interact(int_func.collision_severity_interact, collision_severity = collision_severity)\n"
   ]
  },
  {
   "cell_type": "code",
   "execution_count": 20,
   "metadata": {},
   "outputs": [
    {
     "data": {
      "application/vnd.jupyter.widget-view+json": {
       "model_id": "28ababec441f4a06961a1c27fcfdb4ef",
       "version_major": 2,
       "version_minor": 0
      },
      "text/html": [
       "<p>Failed to display Jupyter Widget of type <code>interactive</code>.</p>\n",
       "<p>\n",
       "  If you're reading this message in the Jupyter Notebook or JupyterLab Notebook, it may mean\n",
       "  that the widgets JavaScript is still loading. If this message persists, it\n",
       "  likely means that the widgets JavaScript library is either not installed or\n",
       "  not enabled. See the <a href=\"https://ipywidgets.readthedocs.io/en/stable/user_install.html\">Jupyter\n",
       "  Widgets Documentation</a> for setup instructions.\n",
       "</p>\n",
       "<p>\n",
       "  If you're reading this message in another frontend (for example, a static\n",
       "  rendering on GitHub or <a href=\"https://nbviewer.jupyter.org/\">NBViewer</a>),\n",
       "  it may mean that your frontend doesn't currently support widgets.\n",
       "</p>\n"
      ],
      "text/plain": [
       "interactive(children=(Dropdown(description='collision_type', options=('All', 'Vehicle Only', 'Bike/Pedestrian'), value='All'), Output()), _dom_classes=('widget-interact',))"
      ]
     },
     "metadata": {},
     "output_type": "display_data"
    },
    {
     "data": {
      "text/plain": [
       "<function interactions_functionality.collision_type_interact>"
      ]
     },
     "execution_count": 20,
     "metadata": {},
     "output_type": "execute_result"
    }
   ],
   "source": [
    "widgets.interact(int_func.collision_type_interact, collision_type=collision_type)\n"
   ]
  },
  {
   "cell_type": "code",
   "execution_count": 21,
   "metadata": {},
   "outputs": [
    {
     "data": {
      "application/vnd.jupyter.widget-view+json": {
       "model_id": "a89feed40c8041ddbb28e14675ee08d4",
       "version_major": 2,
       "version_minor": 0
      },
      "text/html": [
       "<p>Failed to display Jupyter Widget of type <code>interactive</code>.</p>\n",
       "<p>\n",
       "  If you're reading this message in the Jupyter Notebook or JupyterLab Notebook, it may mean\n",
       "  that the widgets JavaScript is still loading. If this message persists, it\n",
       "  likely means that the widgets JavaScript library is either not installed or\n",
       "  not enabled. See the <a href=\"https://ipywidgets.readthedocs.io/en/stable/user_install.html\">Jupyter\n",
       "  Widgets Documentation</a> for setup instructions.\n",
       "</p>\n",
       "<p>\n",
       "  If you're reading this message in another frontend (for example, a static\n",
       "  rendering on GitHub or <a href=\"https://nbviewer.jupyter.org/\">NBViewer</a>),\n",
       "  it may mean that your frontend doesn't currently support widgets.\n",
       "</p>\n"
      ],
      "text/plain": [
       "interactive(children=(IntSlider(value=1500, description='radius_from_building', max=1500, min=200, step=100), Output()), _dom_classes=('widget-interact',))"
      ]
     },
     "metadata": {},
     "output_type": "display_data"
    },
    {
     "data": {
      "text/plain": [
       "<function interactions_functionality.radius_interact>"
      ]
     },
     "execution_count": 21,
     "metadata": {},
     "output_type": "execute_result"
    }
   ],
   "source": [
    "widgets.interact(int_func.radius_interact, radius_from_building = widgets.IntSlider(min=200, max=1500, step=100, value=1500))\n"
   ]
  },
  {
   "cell_type": "code",
   "execution_count": 22,
   "metadata": {},
   "outputs": [
    {
     "data": {
      "application/vnd.jupyter.widget-view+json": {
       "model_id": "28013a5a9a3449e6b016e8e0cbae243c",
       "version_major": 2,
       "version_minor": 0
      },
      "text/html": [
       "<p>Failed to display Jupyter Widget of type <code>interactive</code>.</p>\n",
       "<p>\n",
       "  If you're reading this message in the Jupyter Notebook or JupyterLab Notebook, it may mean\n",
       "  that the widgets JavaScript is still loading. If this message persists, it\n",
       "  likely means that the widgets JavaScript library is either not installed or\n",
       "  not enabled. See the <a href=\"https://ipywidgets.readthedocs.io/en/stable/user_install.html\">Jupyter\n",
       "  Widgets Documentation</a> for setup instructions.\n",
       "</p>\n",
       "<p>\n",
       "  If you're reading this message in another frontend (for example, a static\n",
       "  rendering on GitHub or <a href=\"https://nbviewer.jupyter.org/\">NBViewer</a>),\n",
       "  it may mean that your frontend doesn't currently support widgets.\n",
       "</p>\n"
      ],
      "text/plain": [
       "interactive(children=(Dropdown(description='building_category', options=('All', 'COMMERCIAL', 'MULTIFAMILY', 'INDUSTRIAL', 'INSTITUTIONAL', 'SINGLE FAMILY / DUPLEX'), value='All'), IntSlider(value=2016, description='building_year', max=2017, min=2014), IntSlider(value=12, description='collision_interval', max=12, min=1), Dropdown(description='collision_severity', options=('All', 'Property Damage Only', 'Injury', 'Serious Injury', 'Fatality'), value='All'), Dropdown(description='collision_type', options=('All', 'Vehicle Only', 'Bike/Pedestrian'), value='All'), IntSlider(value=1500, description='radius_from_building', max=1500, min=200, step=100), Button(description='Run Interact', style=ButtonStyle()), Output()), _dom_classes=('widget-interact',))"
      ]
     },
     "metadata": {},
     "output_type": "display_data"
    },
    {
     "data": {
      "text/plain": [
       "<function interactions_functionality.all_factor_interact>"
      ]
     },
     "execution_count": 22,
     "metadata": {},
     "output_type": "execute_result"
    }
   ],
   "source": [
    "widgets.interact_manual(int_func.all_factor_interact, building_category = building_categories, building_year = widgets.IntSlider(min=2014, max=2017, step=1, value=2016), collision_interval = widgets.IntSlider(min=1,max=12,step=1,value=12), collision_severity = collision_severity, collision_type = collision_type, radius_from_building = widgets.IntSlider(min=200, max=1500, step=100, value=1500))"
   ]
  },
  {
   "cell_type": "code",
   "execution_count": null,
   "metadata": {},
   "outputs": [],
   "source": []
  }
 ],
 "metadata": {
  "kernelspec": {
   "display_name": "Python 3",
   "language": "python",
   "name": "python3"
  },
  "language_info": {
   "codemirror_mode": {
    "name": "ipython",
    "version": 3
   },
   "file_extension": ".py",
   "mimetype": "text/x-python",
   "name": "python",
   "nbconvert_exporter": "python",
   "pygments_lexer": "ipython3",
   "version": "3.6.4"
  }
 },
 "nbformat": 4,
 "nbformat_minor": 2
}
