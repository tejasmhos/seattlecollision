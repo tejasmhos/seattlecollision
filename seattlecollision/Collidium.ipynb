{
 "cells": [
  {
   "cell_type": "code",
   "execution_count": 1,
   "metadata": {},
   "outputs": [],
   "source": [
    "import ipywidgets as widgets\n",
    "from IPython.display import Image\n",
    "from interactions_functionality import *"
   ]
  },
  {
   "cell_type": "markdown",
   "metadata": {},
   "source": [
    "## How to use this  notebook\n",
    "### Introduction\n",
    "This notebook was written to allow users to explore how collision volume varies around the location of new building sites in the periods before, during and after construction. There are six different use cases that allow users to explore how various factors affect collision volume. In each use case the user may choose from a drop down menu that will change the information that is plotted on the maps. Each use case plots three maps. The maps show the city of Seattle and each  marker on the map represents a building.  The below legend shows how to interpret the size and color of the markers. Users may also click on the marker to see how many collisions occured. \n",
    "![title](legend.png)"
   ]
  },
  {
   "cell_type": "markdown",
   "metadata": {},
   "source": [
    "## Use case 1: Explore how collision volumes changed before during and after construction for various building types\n",
    "\n",
    "This use case lets users choose which building type they want to see. Options inlclude:  \n",
    "- **Buildings:** Building type (e.g., multifamily, commercial)  \n",
    "- **Map detail** Detail of map labeling. High detail levels are better for zooming in. Low detail improves visibility otherwise. "
   ]
  },
  {
   "cell_type": "code",
   "execution_count": 2,
   "metadata": {
    "scrolled": false
   },
   "outputs": [
    {
     "data": {
      "application/vnd.jupyter.widget-view+json": {
       "model_id": "1bdabdfdaba94147943d580b5b4f6aec",
       "version_major": 2,
       "version_minor": 0
      },
      "text/html": [
       "<p>Failed to display Jupyter Widget of type <code>interactive</code>.</p>\n",
       "<p>\n",
       "  If you're reading this message in the Jupyter Notebook or JupyterLab Notebook, it may mean\n",
       "  that the widgets JavaScript is still loading. If this message persists, it\n",
       "  likely means that the widgets JavaScript library is either not installed or\n",
       "  not enabled. See the <a href=\"https://ipywidgets.readthedocs.io/en/stable/user_install.html\">Jupyter\n",
       "  Widgets Documentation</a> for setup instructions.\n",
       "</p>\n",
       "<p>\n",
       "  If you're reading this message in another frontend (for example, a static\n",
       "  rendering on GitHub or <a href=\"https://nbviewer.jupyter.org/\">NBViewer</a>),\n",
       "  it may mean that your frontend doesn't currently support widgets.\n",
       "</p>\n"
      ],
      "text/plain": [
       "interactive(children=(Dropdown(description='Buildings', options=('All', 'COMMERCIAL', 'MULTIFAMILY', 'INDUSTRIAL', 'INSTITUTIONAL', 'SINGLE FAMILY / DUPLEX'), value='All'), Dropdown(description='Map Detail', options=('Low', 'High'), value='Low'), Output()), _dom_classes=('widget-interact',))"
      ]
     },
     "metadata": {},
     "output_type": "display_data"
    },
    {
     "data": {
      "text/plain": [
       "<function interactions_functionality.build_type_interact>"
      ]
     },
     "execution_count": 2,
     "metadata": {},
     "output_type": "execute_result"
    }
   ],
   "source": [
    "widgets.interact(build_type_interact,\n",
    "                 building_category=widgets.Dropdown(options=BUILDING_CATEGORIES, description='Buildings'), \n",
    "                 map_detail=widgets.Dropdown(options=TILES, description='Map Detail'),\n",
    "                 data_directory = widgets.fixed(\"data/Collidium\"))"
   ]
  },
  {
   "cell_type": "markdown",
   "metadata": {},
   "source": [
    "## Use case 2: Explore how collision volumes changed before during and after construction for various construction years, and collision intervals\n",
    "This use case lets users choose the building year and the interval of time they want to count collisions before and after the construction period, in months. Options inlclude:  \n",
    "- **Year Built:** Year built is based on the year construction was completed.  \n",
    "- **Interval:** Interval is the length of the before and after periods, in months. The during period is also normalized to that same interval (e.g., a building that took a year to build and had 10 collisions during that time, would have its collision count adjusted to 5 if the user selected six months as an interval). \n",
    "- **Map detail** Detail of map labeling. High detail levels are better for zooming in. Low detail improves visibility otherwise. "
   ]
  },
  {
   "cell_type": "code",
   "execution_count": 3,
   "metadata": {
    "scrolled": false
   },
   "outputs": [
    {
     "data": {
      "application/vnd.jupyter.widget-view+json": {
       "model_id": "b8cfbc7b2f1f43169065835adfdad3d0",
       "version_major": 2,
       "version_minor": 0
      },
      "text/html": [
       "<p>Failed to display Jupyter Widget of type <code>interactive</code>.</p>\n",
       "<p>\n",
       "  If you're reading this message in the Jupyter Notebook or JupyterLab Notebook, it may mean\n",
       "  that the widgets JavaScript is still loading. If this message persists, it\n",
       "  likely means that the widgets JavaScript library is either not installed or\n",
       "  not enabled. See the <a href=\"https://ipywidgets.readthedocs.io/en/stable/user_install.html\">Jupyter\n",
       "  Widgets Documentation</a> for setup instructions.\n",
       "</p>\n",
       "<p>\n",
       "  If you're reading this message in another frontend (for example, a static\n",
       "  rendering on GitHub or <a href=\"https://nbviewer.jupyter.org/\">NBViewer</a>),\n",
       "  it may mean that your frontend doesn't currently support widgets.\n",
       "</p>\n"
      ],
      "text/plain": [
       "interactive(children=(Dropdown(description='Year Built', options=(2017, 2016, 2015, 2014), value=2017), Dropdown(description='Interval', options=(12, 11, 10, 9, 8, 7, 6), value=12), Dropdown(description='Map detail', options=('Low', 'High'), value='Low'), Output()), _dom_classes=('widget-interact',))"
      ]
     },
     "metadata": {},
     "output_type": "display_data"
    },
    {
     "data": {
      "text/plain": [
       "<function interactions_functionality.year_int_interact>"
      ]
     },
     "execution_count": 3,
     "metadata": {},
     "output_type": "execute_result"
    }
   ],
   "source": [
    "widgets.interact(year_int_interact, \n",
    "                 building_year=widgets.Dropdown(options=list(range(2017,2013,-1)), description='Year Built'),\n",
    "                 collision_interval=widgets.Dropdown(options=list(range(12,5,-1)), description='Interval'),\n",
    "                 map_detail=widgets.Dropdown(options=TILES, description='Map detail'),\n",
    "                 data_directory=widgets.fixed(\"data/Collidium\"))"
   ]
  },
  {
   "cell_type": "markdown",
   "metadata": {},
   "source": [
    "## Use case 3: Explore how collision volumes changed before during and after construction for differenct collision severities\n",
    "\n",
    "This use case lets users choose the collision severity level that they would like to see. For instance, do injury accidents increase during construction vs before? Options include:\n",
    "- **Severity:** Severity of accident (i.e., property damage, injury, serious injury or fatality)\n",
    "- **Map detail** Detail of map labeling. High detail levels are better for zooming in. Low detail improves visibility otherwise. "
   ]
  },
  {
   "cell_type": "code",
   "execution_count": 4,
   "metadata": {
    "scrolled": false
   },
   "outputs": [
    {
     "data": {
      "application/vnd.jupyter.widget-view+json": {
       "model_id": "4f150d1b2e264821a691d927d09d27f8",
       "version_major": 2,
       "version_minor": 0
      },
      "text/html": [
       "<p>Failed to display Jupyter Widget of type <code>interactive</code>.</p>\n",
       "<p>\n",
       "  If you're reading this message in the Jupyter Notebook or JupyterLab Notebook, it may mean\n",
       "  that the widgets JavaScript is still loading. If this message persists, it\n",
       "  likely means that the widgets JavaScript library is either not installed or\n",
       "  not enabled. See the <a href=\"https://ipywidgets.readthedocs.io/en/stable/user_install.html\">Jupyter\n",
       "  Widgets Documentation</a> for setup instructions.\n",
       "</p>\n",
       "<p>\n",
       "  If you're reading this message in another frontend (for example, a static\n",
       "  rendering on GitHub or <a href=\"https://nbviewer.jupyter.org/\">NBViewer</a>),\n",
       "  it may mean that your frontend doesn't currently support widgets.\n",
       "</p>\n"
      ],
      "text/plain": [
       "interactive(children=(Dropdown(description='Severity', options=('All', 'Property Damage Only', 'Injury', 'Serious Injury', 'Fatality'), value='All'), Dropdown(description='Map detail', options=('Low', 'High'), value='Low'), Output()), _dom_classes=('widget-interact',))"
      ]
     },
     "metadata": {},
     "output_type": "display_data"
    },
    {
     "data": {
      "text/plain": [
       "<function interactions_functionality.collision_severity_interact>"
      ]
     },
     "execution_count": 4,
     "metadata": {},
     "output_type": "execute_result"
    }
   ],
   "source": [
    "widgets.interact(collision_severity_interact, \n",
    "                 collision_severity=widgets.Dropdown(options=COLLISION_SEVERITY, description='Severity'),\n",
    "                 map_detail=widgets.Dropdown(options=TILES, description='Map detail'),\n",
    "                 data_directory=widgets.fixed(\"data/Collidium\"))"
   ]
  },
  {
   "cell_type": "markdown",
   "metadata": {},
   "source": [
    "## Use case 4: Explore how collision volumes changed before during and after construction for different victim types\n",
    "\n",
    "This use case lets users choose the collision victim type that they would like to see. For instance are more do pedestrians and bikers involved in collisions during construction vs before? Options include:\n",
    "- **Type:** Type of collision victime of accident (i.e., Bike/Pedestrian, or Vehicle only)\n",
    "- **Map detail** Detail of map labeling. High detail levels are better for zooming in. Low detail improves visibility otherwise. "
   ]
  },
  {
   "cell_type": "code",
   "execution_count": 5,
   "metadata": {},
   "outputs": [
    {
     "data": {
      "application/vnd.jupyter.widget-view+json": {
       "model_id": "988c0ff1b6d5445d8af113c0e8a88a00",
       "version_major": 2,
       "version_minor": 0
      },
      "text/html": [
       "<p>Failed to display Jupyter Widget of type <code>interactive</code>.</p>\n",
       "<p>\n",
       "  If you're reading this message in the Jupyter Notebook or JupyterLab Notebook, it may mean\n",
       "  that the widgets JavaScript is still loading. If this message persists, it\n",
       "  likely means that the widgets JavaScript library is either not installed or\n",
       "  not enabled. See the <a href=\"https://ipywidgets.readthedocs.io/en/stable/user_install.html\">Jupyter\n",
       "  Widgets Documentation</a> for setup instructions.\n",
       "</p>\n",
       "<p>\n",
       "  If you're reading this message in another frontend (for example, a static\n",
       "  rendering on GitHub or <a href=\"https://nbviewer.jupyter.org/\">NBViewer</a>),\n",
       "  it may mean that your frontend doesn't currently support widgets.\n",
       "</p>\n"
      ],
      "text/plain": [
       "interactive(children=(Dropdown(description='Type', options=('All', 'Vehicle Only', 'Bike/Pedestrian'), value='All'), Dropdown(description='Map detail', options=('Low', 'High'), value='Low'), Output()), _dom_classes=('widget-interact',))"
      ]
     },
     "metadata": {},
     "output_type": "display_data"
    },
    {
     "data": {
      "text/plain": [
       "<function interactions_functionality.collision_type_interact>"
      ]
     },
     "execution_count": 5,
     "metadata": {},
     "output_type": "execute_result"
    }
   ],
   "source": [
    "widgets.interact(collision_type_interact, \n",
    "                 collision_type=widgets.Dropdown(options=COLLISION_TYPE, description='Type'), \n",
    "                 map_detail=widgets.Dropdown(options=TILES, description='Map detail'),                 \n",
    "                 data_directory=widgets.fixed(\"data/Collidium\"))\n"
   ]
  },
  {
   "cell_type": "markdown",
   "metadata": {},
   "source": [
    "## Use case 5: Explore how collision volumes changed before during and after construction for different distance from building location\n",
    "\n",
    "This use case lets users choose the radius from the building location type that they would like to see. For instance is there a greater change in collision count if you only consider collisions very close to the buiding site:\n",
    "- **Max Distance:** Distance from building location in which to count collisions\n",
    "- **Map detail** Detail of map labeling. High detail levels are better for zooming in. Low detail improves visibility otherwise. "
   ]
  },
  {
   "cell_type": "code",
   "execution_count": 6,
   "metadata": {},
   "outputs": [
    {
     "data": {
      "application/vnd.jupyter.widget-view+json": {
       "model_id": "0a0d67db520c4e739e13ca6283c0685e",
       "version_major": 2,
       "version_minor": 0
      },
      "text/html": [
       "<p>Failed to display Jupyter Widget of type <code>interactive</code>.</p>\n",
       "<p>\n",
       "  If you're reading this message in the Jupyter Notebook or JupyterLab Notebook, it may mean\n",
       "  that the widgets JavaScript is still loading. If this message persists, it\n",
       "  likely means that the widgets JavaScript library is either not installed or\n",
       "  not enabled. See the <a href=\"https://ipywidgets.readthedocs.io/en/stable/user_install.html\">Jupyter\n",
       "  Widgets Documentation</a> for setup instructions.\n",
       "</p>\n",
       "<p>\n",
       "  If you're reading this message in another frontend (for example, a static\n",
       "  rendering on GitHub or <a href=\"https://nbviewer.jupyter.org/\">NBViewer</a>),\n",
       "  it may mean that your frontend doesn't currently support widgets.\n",
       "</p>\n"
      ],
      "text/plain": [
       "interactive(children=(Dropdown(description='Max Distance', options=(1500, 1400, 1300, 1200, 1100, 1000, 900, 800), value=1500), Dropdown(description='Map detail', options=('Low', 'High'), value='Low'), Output()), _dom_classes=('widget-interact',))"
      ]
     },
     "metadata": {},
     "output_type": "display_data"
    },
    {
     "data": {
      "text/plain": [
       "<function interactions_functionality.radius_interact>"
      ]
     },
     "execution_count": 6,
     "metadata": {},
     "output_type": "execute_result"
    }
   ],
   "source": [
    "widgets.interact(radius_interact, \n",
    "                 radius_from_building=widgets.Dropdown(options=list(range(1500, 700, -100)), description='Max Distance'), \n",
    "                 map_detail=widgets.Dropdown(options=TILES, description='Map detail'),\n",
    "                 data_directory = widgets.fixed(\"data/Collidium\"))\n"
   ]
  },
  {
   "cell_type": "markdown",
   "metadata": {},
   "source": [
    "# Use case 6: Explore how collision volumes changed before during and after construction by adjusting all variables\n",
    "\n",
    "This use case allows users to adjust any and all variables outlined above to make a customized map base on their needs and interests. Options include:\n",
    "- **Buildings:** Building type (e.g., multifamily, commercial)  \n",
    "- **Year Built:** Year built is based on the year construction was completed.  \n",
    "- **Interval:** Interval is the length of the before and after periods, in months. The during period is also normalized to that same interval (e.g., a building that took a year to build and had 10 collisions during that time, would have its collision count adjusted to 5 if the user selected six months as an interval). \n",
    "- **Severity:** Severity of accident (i.e., property damage, injury, serious injury or fatality)\n",
    "- **Type:** Type of collision victime of accident (i.e., Bike/Pedestrian, or Vehicle only)\n",
    "- **Max Distance:** Distance from building location in which to count collisions\n",
    "- **Map detail** Detail of map labeling. High detail levels are better for zooming in. Low detail improves visibility otherwise. "
   ]
  },
  {
   "cell_type": "code",
   "execution_count": 7,
   "metadata": {
    "scrolled": false
   },
   "outputs": [
    {
     "data": {
      "application/vnd.jupyter.widget-view+json": {
       "model_id": "85ba9092215f4115add823c8a795c470",
       "version_major": 2,
       "version_minor": 0
      },
      "text/html": [
       "<p>Failed to display Jupyter Widget of type <code>interactive</code>.</p>\n",
       "<p>\n",
       "  If you're reading this message in the Jupyter Notebook or JupyterLab Notebook, it may mean\n",
       "  that the widgets JavaScript is still loading. If this message persists, it\n",
       "  likely means that the widgets JavaScript library is either not installed or\n",
       "  not enabled. See the <a href=\"https://ipywidgets.readthedocs.io/en/stable/user_install.html\">Jupyter\n",
       "  Widgets Documentation</a> for setup instructions.\n",
       "</p>\n",
       "<p>\n",
       "  If you're reading this message in another frontend (for example, a static\n",
       "  rendering on GitHub or <a href=\"https://nbviewer.jupyter.org/\">NBViewer</a>),\n",
       "  it may mean that your frontend doesn't currently support widgets.\n",
       "</p>\n"
      ],
      "text/plain": [
       "interactive(children=(Dropdown(description='Buildings', options=('All', 'COMMERCIAL', 'MULTIFAMILY', 'INDUSTRIAL', 'INSTITUTIONAL', 'SINGLE FAMILY / DUPLEX'), value='All'), Dropdown(description='Year Built', options=(2017, 2016, 2015, 2014), value=2017), Dropdown(description='Interval', options=(12, 11, 10, 9, 8, 7, 6), value=12), Dropdown(description='Severity', options=('All', 'Property Damage Only', 'Injury', 'Serious Injury', 'Fatality'), value='All'), Dropdown(description='Type', options=('All', 'Vehicle Only', 'Bike/Pedestrian'), value='All'), Dropdown(description='Max Distance', options=(1500, 1400, 1300, 1200, 1100, 1000, 900, 800), value=1500), Dropdown(description='Map detail', options=('Low', 'High'), value='Low'), Button(description='Run Interact', style=ButtonStyle()), Output()), _dom_classes=('widget-interact',))"
      ]
     },
     "metadata": {},
     "output_type": "display_data"
    },
    {
     "data": {
      "text/plain": [
       "<function interactions_functionality.all_factor_interact>"
      ]
     },
     "execution_count": 7,
     "metadata": {},
     "output_type": "execute_result"
    }
   ],
   "source": [
    "widgets.interact_manual(all_factor_interact, \n",
    "                        building_category=widgets.Dropdown(options=BUILDING_CATEGORIES, description='Buildings'), \n",
    "                        building_year=widgets.Dropdown(options=list(range(2017, 2013, -1)), description='Year Built'), \n",
    "                        collision_interval=widgets.Dropdown(options=list(range(12, 5, -1)), description='Interval'), \n",
    "                        collision_severity=widgets.Dropdown(options=COLLISION_SEVERITY, description='Severity'), \n",
    "                        collision_type=widgets.Dropdown(options=COLLISION_TYPE, description='Type'), \n",
    "                        radius_from_building=widgets.Dropdown(options=list(range(1500, 700, -100)), description='Max Distance'), \n",
    "                        map_detail=widgets.Dropdown(options=TILES, description='Map detail'),\n",
    "                        data_directory = widgets.fixed(\"data/Collidium\"))"
   ]
  },
  {
   "cell_type": "code",
   "execution_count": null,
   "metadata": {},
   "outputs": [],
   "source": []
  }
 ],
 "metadata": {
  "kernelspec": {
   "display_name": "Python 3",
   "language": "python",
   "name": "python3"
  },
  "language_info": {
   "codemirror_mode": {
    "name": "ipython",
    "version": 3
   },
   "file_extension": ".py",
   "mimetype": "text/x-python",
   "name": "python",
   "nbconvert_exporter": "python",
   "pygments_lexer": "ipython3",
   "version": "3.6.4"
  }
 },
 "nbformat": 4,
 "nbformat_minor": 2
}
