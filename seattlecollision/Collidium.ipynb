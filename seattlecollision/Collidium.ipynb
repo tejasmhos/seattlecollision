{
 "cells": [
  {
   "cell_type": "code",
   "execution_count": 1,
   "metadata": {},
   "outputs": [],
   "source": [
    "import branca\n",
    "import csv\n",
    "import datetime\n",
    "import folium\n",
    "import sqlite3\n",
    "import ipywidgets as widgets\n",
    "import numpy as np\n",
    "import pandas as pd\n",
    "import draw_markers\n",
    "import table_builder\n",
    "import interactions_functionality as int_func\n",
    "from query_class import CollidiumQuery\n"
   ]
  },
  {
   "cell_type": "code",
   "execution_count": 2,
   "metadata": {},
   "outputs": [],
   "source": [
    "SQL_CURSOR = int_func.generate_connection(data_directory=\"data/\", db_name=\"collidium_db\")\n"
   ]
  },
  {
   "cell_type": "code",
   "execution_count": 3,
   "metadata": {},
   "outputs": [],
   "source": [
    "cols_needed = [\"b_category\", \"base_year\",\"c_severity\", \"c_type\"]\n",
    "building_categories, building_years, collision_severity, collision_type = int_func.generate_categories(cols_needed)\n"
   ]
  },
  {
   "cell_type": "code",
   "execution_count": 4,
   "metadata": {},
   "outputs": [
    {
     "data": {
      "application/vnd.jupyter.widget-view+json": {
       "model_id": "70168c889272472fa13963aa41e57b32",
       "version_major": 2,
       "version_minor": 0
      },
      "text/plain": [
       "interactive(children=(Dropdown(description='building_category', options=('All', 'COMMERCIAL', 'MULTIFAMILY', '…"
      ]
     },
     "metadata": {},
     "output_type": "display_data"
    },
    {
     "data": {
      "text/plain": [
       "<function interactions_functionality.build_type_interact(building_category)>"
      ]
     },
     "execution_count": 4,
     "metadata": {},
     "output_type": "execute_result"
    }
   ],
   "source": [
    "widgets.interact(int_func.build_type_interact, building_category = building_categories)\n"
   ]
  },
  {
   "cell_type": "code",
   "execution_count": 5,
   "metadata": {},
   "outputs": [
    {
     "data": {
      "application/vnd.jupyter.widget-view+json": {
       "model_id": "fd0abe1deacc4b92aeaed3bea0aa8643",
       "version_major": 2,
       "version_minor": 0
      },
      "text/plain": [
       "interactive(children=(IntSlider(value=2016, description='building_year', max=2017, min=2014), IntSlider(value=…"
      ]
     },
     "metadata": {},
     "output_type": "display_data"
    },
    {
     "data": {
      "text/plain": [
       "<function interactions_functionality.year_int_interact(building_year, collision_interval)>"
      ]
     },
     "execution_count": 5,
     "metadata": {},
     "output_type": "execute_result"
    }
   ],
   "source": [
    "widgets.interact(int_func.year_int_interact, building_year = widgets.IntSlider(min=2014, max=2017, step=1, value=2016), collision_interval = widgets.IntSlider(min=1, max=12, step=1, value=12))"
   ]
  },
  {
   "cell_type": "code",
   "execution_count": 6,
   "metadata": {},
   "outputs": [
    {
     "data": {
      "application/vnd.jupyter.widget-view+json": {
       "model_id": "ca8a005e714d4847a7a3659b8f20dede",
       "version_major": 2,
       "version_minor": 0
      },
      "text/plain": [
       "interactive(children=(Dropdown(description='collision_severity', options=('All', 'Property Damage Only', 'Inju…"
      ]
     },
     "metadata": {},
     "output_type": "display_data"
    },
    {
     "data": {
      "text/plain": [
       "<function interactions_functionality.collision_severity_interact(collision_severity)>"
      ]
     },
     "execution_count": 6,
     "metadata": {},
     "output_type": "execute_result"
    }
   ],
   "source": [
    "widgets.interact(int_func.collision_severity_interact, collision_severity = collision_severity)\n"
   ]
  },
  {
   "cell_type": "code",
   "execution_count": 7,
   "metadata": {},
   "outputs": [
    {
     "data": {
      "application/vnd.jupyter.widget-view+json": {
       "model_id": "ec47cdf19282416a82cd69f6ddde245a",
       "version_major": 2,
       "version_minor": 0
      },
      "text/plain": [
       "interactive(children=(Dropdown(description='collision_type', options=('All', 'Vehicle Only', 'Bike/Pedestrian'…"
      ]
     },
     "metadata": {},
     "output_type": "display_data"
    },
    {
     "data": {
      "text/plain": [
       "<function interactions_functionality.collision_type_interact(collision_type)>"
      ]
     },
     "execution_count": 7,
     "metadata": {},
     "output_type": "execute_result"
    }
   ],
   "source": [
    "widgets.interact(int_func.collision_type_interact, collision_type=collision_type)\n"
   ]
  },
  {
   "cell_type": "code",
   "execution_count": 8,
   "metadata": {},
   "outputs": [
    {
     "data": {
      "application/vnd.jupyter.widget-view+json": {
       "model_id": "142829aa652f4067805cb87f1d2c08ef",
       "version_major": 2,
       "version_minor": 0
      },
      "text/plain": [
       "interactive(children=(IntSlider(value=1500, description='radius_from_building', max=1500, min=200, step=100), …"
      ]
     },
     "metadata": {},
     "output_type": "display_data"
    },
    {
     "data": {
      "text/plain": [
       "<function interactions_functionality.radius_interact(radius_from_building)>"
      ]
     },
     "execution_count": 8,
     "metadata": {},
     "output_type": "execute_result"
    }
   ],
   "source": [
    "widgets.interact(int_func.radius_interact, radius_from_building = widgets.IntSlider(min=200, max=1500, step=100, value=1500))\n"
   ]
  },
  {
   "cell_type": "code",
   "execution_count": 9,
   "metadata": {},
   "outputs": [
    {
     "data": {
      "application/vnd.jupyter.widget-view+json": {
       "model_id": "fb6b7faa93f5445fbd0388159ece4a9b",
       "version_major": 2,
       "version_minor": 0
      },
      "text/plain": [
       "interactive(children=(Dropdown(description='building_category', options=('All', 'COMMERCIAL', 'MULTIFAMILY', '…"
      ]
     },
     "metadata": {},
     "output_type": "display_data"
    },
    {
     "data": {
      "text/plain": [
       "<function interactions_functionality.all_factor_interact(building_category, building_year, collision_interval, collision_severity, collision_type, radius_from_building)>"
      ]
     },
     "execution_count": 9,
     "metadata": {},
     "output_type": "execute_result"
    }
   ],
   "source": [
    "widgets.interact_manual(int_func.all_factor_interact, building_category = building_categories, building_year = widgets.IntSlider(min=2014, max=2017, step=1, value=2016), collision_interval = widgets.IntSlider(min=1,max=12,step=1,value=12), collision_severity = collision_severity, collision_type = collision_type, radius_from_building = widgets.IntSlider(min=200, max=1500, step=100, value=1500))"
   ]
  },
  {
   "cell_type": "code",
   "execution_count": null,
   "metadata": {},
   "outputs": [],
   "source": []
  }
 ],
 "metadata": {
  "kernelspec": {
   "display_name": "collidium",
   "language": "python",
   "name": "collidium"
  },
  "language_info": {
   "codemirror_mode": {
    "name": "ipython",
    "version": 3
   },
   "file_extension": ".py",
   "mimetype": "text/x-python",
   "name": "python",
   "nbconvert_exporter": "python",
   "pygments_lexer": "ipython3",
   "version": "3.6.5"
  }
 },
 "nbformat": 4,
 "nbformat_minor": 2
}
