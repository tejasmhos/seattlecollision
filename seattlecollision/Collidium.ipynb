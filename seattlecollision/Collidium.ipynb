{
 "cells": [
  {
   "cell_type": "code",
   "execution_count": 1,
   "metadata": {},
   "outputs": [],
   "source": [
    "import branca\n",
    "import csv\n",
    "import datetime\n",
    "import folium\n",
    "import sqlite3\n",
    "import ipywidgets as widgets\n",
    "import numpy as np\n",
    "import pandas as pd\n",
    "import draw_markers\n",
    "import interactions_functionality as int_func\n",
    "from IPython.display import Image\n",
    "from query_class import CollidiumQuery"
   ]
  },
  {
   "cell_type": "markdown",
   "metadata": {},
   "source": [
    "## How to use this  notebook\n",
    "### Introduction\n",
    "This notebook was written to allow users to explore how collision volume varies around the location of new building sites in the periods before, during and after construction. There are six different use cases that allow users to explore how various factors affect collision volume. In each use case the user may choose from a drop down menu that will change the information that is plotted on the maps. Each use case plots three maps. The maps show the city of Seattle and each  marker on the map represents a building.  The below legend shows how to interpret the size and color of the markers. Users may also click on the marker to see how many collisions occured. \n",
    "![title](legend.png)"
   ]
  },
  {
   "cell_type": "code",
   "execution_count": 2,
   "metadata": {},
   "outputs": [],
   "source": [
    "#Generate categories for dropdown menus\n",
    "cols_needed = [\"b_category\", \"base_year\",\"c_severity\", \"c_type\"]\n",
    "building_categories, building_years, collision_severity, collision_type = int_func.generate_categories(cols_needed)\n",
    "tiles = ['Low', 'High']"
   ]
  },
  {
   "cell_type": "markdown",
   "metadata": {},
   "source": [
    "## Use case 1: Explore how collision volumes changed before during and after construction for various building types\n",
    "\n",
    "This use case lets users choose which building type they want to see. Options inlclude:  \n",
    "- **Buildings:** Building type (e.g., multifamily, commercial)  \n",
    "- **Map detail** Detail of map labeling. High detail levels are better for zooming in. Low detail improves visibility otherwise. "
   ]
  },
  {
   "cell_type": "code",
   "execution_count": 3,
   "metadata": {
    "scrolled": false
   },
   "outputs": [
    {
     "data": {
      "application/vnd.jupyter.widget-view+json": {
       "model_id": "68ebcdc3396d4a1faf6a6b35a6d1d1e9",
       "version_major": 2,
       "version_minor": 0
      },
      "text/plain": [
       "interactive(children=(Dropdown(description='Buildings', options=('All', 'COMMERCIAL', 'MULTIFAMILY', 'INDUSTRI…"
      ]
     },
     "metadata": {},
     "output_type": "display_data"
    },
    {
     "data": {
      "text/plain": [
       "<function interactions_functionality.build_type_interact(building_category, map_detail='Low', data_directory='data/Collidium')>"
      ]
     },
     "execution_count": 3,
     "metadata": {},
     "output_type": "execute_result"
    }
   ],
   "source": [
    "widgets.interact(int_func.build_type_interact,\n",
    "                 building_category=widgets.Dropdown(options=building_categories, description='Buildings'), \n",
    "                 map_detail=widgets.Dropdown(options=tiles, description='Map detail'),\n",
    "                 data_directory = widgets.fixed(\"data/Collidium\"))"
   ]
  },
  {
   "cell_type": "markdown",
   "metadata": {},
   "source": [
    "## Use case 2: Explore how collision volumes changed before during and after construction for various construction years, and collision intervals\n",
    "This use case lets users choose the building year and the interval of time they want to count collisions before and after the construction period, in months. Options inlclude:  \n",
    "- **Year Built:** Year built is based on the year construction was completed.  \n",
    "- **Interval:** Interval is the length of the before and after periods, in months. The during period is also normalized to that same interval (e.g., a building that took a year to build and had 10 collisions during that time, would have its collision count adjusted to 5 if the user selected six months as an interval). \n",
    "- **Map detail** Detail of map labeling. High detail levels are better for zooming in. Low detail improves visibility otherwise. "
   ]
  },
  {
   "cell_type": "code",
   "execution_count": 4,
   "metadata": {
    "scrolled": false
   },
   "outputs": [
    {
     "data": {
      "application/vnd.jupyter.widget-view+json": {
       "model_id": "43b60a0650a5416aab564c1bbc54e3b0",
       "version_major": 2,
       "version_minor": 0
      },
      "text/plain": [
       "interactive(children=(Dropdown(description='Year Built', options=(2017, 2016, 2015, 2014), value=2017), Dropdo…"
      ]
     },
     "metadata": {},
     "output_type": "display_data"
    },
    {
     "data": {
      "text/plain": [
       "<function interactions_functionality.year_int_interact(building_year, collision_interval, map_detail='Low', data_directory='data/Collidium')>"
      ]
     },
     "execution_count": 4,
     "metadata": {},
     "output_type": "execute_result"
    }
   ],
   "source": [
    "widgets.interact(int_func.year_int_interact, \n",
    "                 building_year=widgets.Dropdown(options=list(range(2017,2013,-1)), description='Year Built'),\n",
    "                 collision_interval=widgets.Dropdown(options=list(range(12,5,-1)), description='Interval'),\n",
    "                 map_detail=widgets.Dropdown(options=tiles, description='Map detail'),\n",
    "                 data_directory=widgets.fixed(\"data/Collidium\"))"
   ]
  },
  {
   "cell_type": "markdown",
   "metadata": {},
   "source": [
    "## Use case 3: Explore how collision volumes changed before during and after construction for differenct collision severities\n",
    "\n",
    "This use case lets users choose the collision severity level that they would like to see. For instance, do injury accidents increase during construction vs before? Options include:\n",
    "- **Severity:** Severity of accident (i.e., property damage, injury, serious injury or fatality)\n",
    "- **Map detail** Detail of map labeling. High detail levels are better for zooming in. Low detail improves visibility otherwise. "
   ]
  },
  {
   "cell_type": "code",
   "execution_count": 5,
   "metadata": {
    "scrolled": false
   },
   "outputs": [
    {
     "data": {
      "application/vnd.jupyter.widget-view+json": {
       "model_id": "db7494ab97354abdaa307d0fa667aefa",
       "version_major": 2,
       "version_minor": 0
      },
      "text/plain": [
       "interactive(children=(Dropdown(description='Severity', options=('All', 'Property Damage Only', 'Injury', 'Seri…"
      ]
     },
     "metadata": {},
     "output_type": "display_data"
    },
    {
     "data": {
      "text/plain": [
       "<function interactions_functionality.collision_severity_interact(collision_severity, map_detail='Low', data_directory='data/Collidium')>"
      ]
     },
     "execution_count": 5,
     "metadata": {},
     "output_type": "execute_result"
    }
   ],
   "source": [
    "widgets.interact(int_func.collision_severity_interact, \n",
    "                 collision_severity=widgets.Dropdown(options=collision_severity, description='Severity'),\n",
    "                 map_detail=widgets.Dropdown(options=tiles, description='Map detail'),\n",
    "                 data_directory=widgets.fixed(\"data/Collidium\"))"
   ]
  },
  {
   "cell_type": "markdown",
   "metadata": {},
   "source": [
    "## Use case 4: Explore how collision volumes changed before during and after construction for different victim types\n",
    "\n",
    "This use case lets users choose the collision victim type that they would like to see. For instance are more do pedestrians and bikers involved in collisions during construction vs before? Options include:\n",
    "- **Type:** Type of collision victime of accident (i.e., Bike/Pedestrian, or Vehicle only)\n",
    "- **Map detail** Detail of map labeling. High detail levels are better for zooming in. Low detail improves visibility otherwise. "
   ]
  },
  {
   "cell_type": "code",
   "execution_count": 6,
   "metadata": {},
   "outputs": [
    {
     "data": {
      "application/vnd.jupyter.widget-view+json": {
       "model_id": "b49e0eeaa6fc4987abb7ca791fd70ac3",
       "version_major": 2,
       "version_minor": 0
      },
      "text/plain": [
       "interactive(children=(Dropdown(description='Type', options=('All', 'Vehicle Only', 'Bike/Pedestrian'), value='…"
      ]
     },
     "metadata": {},
     "output_type": "display_data"
    },
    {
     "data": {
      "text/plain": [
       "<function interactions_functionality.collision_type_interact(collision_type, map_detail='Low', data_directory='data/Collidium')>"
      ]
     },
     "execution_count": 6,
     "metadata": {},
     "output_type": "execute_result"
    }
   ],
   "source": [
    "widgets.interact(int_func.collision_type_interact, \n",
    "                 collision_type=widgets.Dropdown(options=collision_type, description='Type'), \n",
    "                 map_detail=widgets.Dropdown(options=tiles, description='Map detail'),                 \n",
    "                 data_directory=widgets.fixed(\"data/Collidium\"))\n"
   ]
  },
  {
   "cell_type": "markdown",
   "metadata": {},
   "source": [
    "## Use case 5: Explore how collision volumes changed before during and after construction for different distance from building location\n",
    "\n",
    "This use case lets users choose the radius from the building location type that they would like to see. For instance is there a greater change in collision count if you only consider collisions very close to the buiding site:\n",
    "- **Max Distance:** Distance from building location in which to count collisions\n",
    "- **Map detail** Detail of map labeling. High detail levels are better for zooming in. Low detail improves visibility otherwise. "
   ]
  },
  {
   "cell_type": "code",
   "execution_count": 7,
   "metadata": {},
   "outputs": [
    {
     "data": {
      "application/vnd.jupyter.widget-view+json": {
       "model_id": "caee0fcba107407f9b2c83048ea1d714",
       "version_major": 2,
       "version_minor": 0
      },
      "text/plain": [
       "interactive(children=(Dropdown(description='Max Distance', options=(1500, 1400, 1300, 1200, 1100, 1000, 900, 8…"
      ]
     },
     "metadata": {},
     "output_type": "display_data"
    },
    {
     "data": {
      "text/plain": [
       "<function interactions_functionality.radius_interact(radius_from_building, map_detail='Low', data_directory='data/Collidium')>"
      ]
     },
     "execution_count": 7,
     "metadata": {},
     "output_type": "execute_result"
    }
   ],
   "source": [
    "widgets.interact(int_func.radius_interact, \n",
    "                 radius_from_building=widgets.Dropdown(options=list(range(1500, 700, -100)), description='Max Distance'), \n",
    "                 map_detail=widgets.Dropdown(options=tiles, description='Map detail'),\n",
    "                 data_directory = widgets.fixed(\"data/Collidium\"))\n"
   ]
  },
  {
   "cell_type": "markdown",
   "metadata": {},
   "source": [
    "# Use case 6: Explore how collision volumes changed before during and after construction by adjusting all variables\n",
    "\n",
    "This use case allows users to adjust any and all variables outlined above to make a customized map base on their needs and interests. Options include:\n",
    "- **Buildings:** Building type (e.g., multifamily, commercial)  \n",
    "- **Year Built:** Year built is based on the year construction was completed.  \n",
    "- **Interval:** Interval is the length of the before and after periods, in months. The during period is also normalized to that same interval (e.g., a building that took a year to build and had 10 collisions during that time, would have its collision count adjusted to 5 if the user selected six months as an interval). \n",
    "- **Severity:** Severity of accident (i.e., property damage, injury, serious injury or fatality)\n",
    "- **Type:** Type of collision victime of accident (i.e., Bike/Pedestrian, or Vehicle only)\n",
    "- **Max Distance:** Distance from building location in which to count collisions\n",
    "- **Map detail** Detail of map labeling. High detail levels are better for zooming in. Low detail improves visibility otherwise. "
   ]
  },
  {
   "cell_type": "code",
   "execution_count": 8,
   "metadata": {
    "scrolled": false
   },
   "outputs": [
    {
     "data": {
      "application/vnd.jupyter.widget-view+json": {
       "model_id": "fa289645dace4013bbd9ac5925332868",
       "version_major": 2,
       "version_minor": 0
      },
      "text/plain": [
       "interactive(children=(Dropdown(description='Buildings', options=('All', 'COMMERCIAL', 'MULTIFAMILY', 'INDUSTRI…"
      ]
     },
     "metadata": {},
     "output_type": "display_data"
    },
    {
     "data": {
      "text/plain": [
       "<function interactions_functionality.all_factor_interact(building_category, building_year, collision_interval, collision_severity, collision_type, radius_from_building, map_detail='Low', data_directory='data/Collidium')>"
      ]
     },
     "execution_count": 8,
     "metadata": {},
     "output_type": "execute_result"
    }
   ],
   "source": [
    "widgets.interact_manual(int_func.all_factor_interact, \n",
    "                        building_category=widgets.Dropdown(options=building_categories, description='Buildings'), \n",
    "                        building_year=widgets.Dropdown(options=list(range(2017, 2013, -1)), description='Year Built'), \n",
    "                        collision_interval=widgets.Dropdown(options=list(range(12, 5, -1)), description='Interval'), \n",
    "                        collision_severity=widgets.Dropdown(options=collision_severity, description='Severity'), \n",
    "                        collision_type=widgets.Dropdown(options=collision_type, description='Type'), \n",
    "                        radius_from_building=widgets.Dropdown(options=list(range(1500, 700, -100)), description='Max Distance'), \n",
    "                        map_detail=widgets.Dropdown(options=tiles, description='Map detail'),\n",
    "                        data_directory = widgets.fixed(\"data/Collidium\"))"
   ]
  },
  {
   "cell_type": "code",
   "execution_count": null,
   "metadata": {},
   "outputs": [],
   "source": []
  }
 ],
 "metadata": {
  "kernelspec": {
   "display_name": "Python 3",
   "language": "python",
   "name": "python3"
  },
  "language_info": {
   "codemirror_mode": {
    "name": "ipython",
    "version": 3
   },
   "file_extension": ".py",
   "mimetype": "text/x-python",
   "name": "python",
   "nbconvert_exporter": "python",
   "pygments_lexer": "ipython3",
   "version": "3.6.5"
  }
 },
 "nbformat": 4,
 "nbformat_minor": 2
}
