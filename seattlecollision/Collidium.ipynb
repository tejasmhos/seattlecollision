{
 "cells": [
  {
   "cell_type": "code",
   "execution_count": 10,
   "metadata": {},
   "outputs": [],
   "source": [
    "import branca\n",
    "import csv\n",
    "import datetime\n",
    "import folium\n",
    "import sqlite3\n",
    "import ipywidgets as widgets\n",
    "import numpy as np\n",
    "import pandas as pd\n",
    "import draw_markers\n",
    "import interactions_functionality as int_func\n",
    "from query_class import CollidiumQuery"
   ]
  },
  {
   "cell_type": "code",
   "execution_count": 15,
   "metadata": {},
   "outputs": [
    {
     "data": {
      "text/plain": [
       "<module 'draw_markers' from 'C:\\\\Users\\\\Alyssa\\\\Desktop\\\\Data_515 Project\\\\seattlecollision\\\\seattlecollision\\\\draw_markers.py'>"
      ]
     },
     "execution_count": 15,
     "metadata": {},
     "output_type": "execute_result"
    }
   ],
   "source": [
    "import importlib\n",
    "importlib.reload(int_func)\n",
    "importlib.reload(draw_markers)"
   ]
  },
  {
   "cell_type": "code",
   "execution_count": 2,
   "metadata": {},
   "outputs": [],
   "source": [
    "cols_needed = [\"b_category\", \"base_year\",\"c_severity\", \"c_type\"]\n",
    "building_categories, building_years, collision_severity, collision_type = int_func.generate_categories(cols_needed)\n",
    "tiles = ['Low', 'High']"
   ]
  },
  {
   "cell_type": "markdown",
   "metadata": {},
   "source": [
    "## Use case 1: Explore how building categories affected collisions"
   ]
  },
  {
   "cell_type": "code",
   "execution_count": 13,
   "metadata": {},
   "outputs": [
    {
     "data": {
      "application/vnd.jupyter.widget-view+json": {
       "model_id": "c960e3cc0ae443fabbaa2b710b9faed5",
       "version_major": 2,
       "version_minor": 0
      },
      "text/plain": [
       "interactive(children=(Dropdown(description='building_category', options=('All', 'COMMERCIAL', 'MULTIFAMILY', '…"
      ]
     },
     "metadata": {},
     "output_type": "display_data"
    },
    {
     "data": {
      "text/plain": [
       "<function interactions_functionality.build_type_interact(building_category, map_detail='Low', data_directory='data/Collidium')>"
      ]
     },
     "execution_count": 13,
     "metadata": {},
     "output_type": "execute_result"
    }
   ],
   "source": [
    "widgets.interact(int_func.build_type_interact, building_category=building_categories, map_detail=tiles,\n",
    "                 data_directory=widgets.fixed(\"data/Collidium\"))"
   ]
  },
  {
   "cell_type": "markdown",
   "metadata": {},
   "source": [
    "## Use case 2: Explore how collisions varied around buildings in different years"
   ]
  },
  {
   "cell_type": "code",
   "execution_count": 16,
   "metadata": {
    "scrolled": false
   },
   "outputs": [
    {
     "data": {
      "application/vnd.jupyter.widget-view+json": {
       "model_id": "3f4172c2b9c3471f85c91939119aea2c",
       "version_major": 2,
       "version_minor": 0
      },
      "text/plain": [
       "interactive(children=(Dropdown(description='building_year', options=(2017, 2016, 2015, 2014), value=2017), Dro…"
      ]
     },
     "metadata": {},
     "output_type": "display_data"
    },
    {
     "data": {
      "text/plain": [
       "<function interactions_functionality.year_int_interact(building_year, collision_interval, map_detail='Low', data_directory='data/Collidium')>"
      ]
     },
     "execution_count": 16,
     "metadata": {},
     "output_type": "execute_result"
    }
   ],
   "source": [
    "widgets.interact(int_func.year_int_interact, building_year=list(range(2017,2013,-1)), collision_interval=list(range(12,5,-1)),\n",
    "                 map_detail=tiles, data_directory = widgets.fixed(\"data/Collidium\"))"
   ]
  },
  {
   "cell_type": "markdown",
   "metadata": {},
   "source": [
    "## Use case 3: Explore how collision severity changed before, during and after building construction"
   ]
  },
  {
   "cell_type": "code",
   "execution_count": 17,
   "metadata": {
    "scrolled": false
   },
   "outputs": [
    {
     "data": {
      "application/vnd.jupyter.widget-view+json": {
       "model_id": "d164e7d069024dde8869beeb273d97ba",
       "version_major": 2,
       "version_minor": 0
      },
      "text/plain": [
       "interactive(children=(Dropdown(description='collision_severity', options=('All', 'Property Damage Only', 'Inju…"
      ]
     },
     "metadata": {},
     "output_type": "display_data"
    },
    {
     "data": {
      "text/plain": [
       "<function interactions_functionality.collision_severity_interact(collision_severity, map_detail='Low', data_directory='data/Collidium')>"
      ]
     },
     "execution_count": 17,
     "metadata": {},
     "output_type": "execute_result"
    }
   ],
   "source": [
    "widgets.interact(int_func.collision_severity_interact, collision_severity=collision_severity, map_detail=tiles,\n",
    "                 data_directory=widgets.fixed(\"data/Collidium\"))"
   ]
  },
  {
   "cell_type": "markdown",
   "metadata": {},
   "source": [
    "## Use case 4: Explore how collision victims vary before, during and after building construction"
   ]
  },
  {
   "cell_type": "code",
   "execution_count": 18,
   "metadata": {},
   "outputs": [
    {
     "data": {
      "application/vnd.jupyter.widget-view+json": {
       "model_id": "7bdc1f8ee6264b0c94d27d8db573833e",
       "version_major": 2,
       "version_minor": 0
      },
      "text/plain": [
       "interactive(children=(Dropdown(description='collision_type', options=('All', 'Vehicle Only', 'Bike/Pedestrian'…"
      ]
     },
     "metadata": {},
     "output_type": "display_data"
    },
    {
     "data": {
      "text/plain": [
       "<function interactions_functionality.collision_type_interact(collision_type, map_detail='Low', data_directory='data/Collidium')>"
      ]
     },
     "execution_count": 18,
     "metadata": {},
     "output_type": "execute_result"
    }
   ],
   "source": [
    "widgets.interact(int_func.collision_type_interact, collision_type=collision_type, map_detail=tiles,\n",
    "                 data_directory=widgets.fixed(\"data/Collidium\"))\n"
   ]
  },
  {
   "cell_type": "markdown",
   "metadata": {},
   "source": [
    "## Use case 5: Explore how collision volumes vary depending on proximity to building construction"
   ]
  },
  {
   "cell_type": "code",
   "execution_count": 19,
   "metadata": {
    "scrolled": false
   },
   "outputs": [
    {
     "data": {
      "application/vnd.jupyter.widget-view+json": {
       "model_id": "aec17db0742346f3b6bd7aed5ecf8b40",
       "version_major": 2,
       "version_minor": 0
      },
      "text/plain": [
       "interactive(children=(Dropdown(description='radius_from_building', options=(1500, 1400, 1300, 1200, 1100, 1000…"
      ]
     },
     "metadata": {},
     "output_type": "display_data"
    },
    {
     "data": {
      "text/plain": [
       "<function interactions_functionality.radius_interact(radius_from_building, map_detail='Low', data_directory='data/Collidium')>"
      ]
     },
     "execution_count": 19,
     "metadata": {},
     "output_type": "execute_result"
    }
   ],
   "source": [
    "widgets.interact(int_func.radius_interact, radius_from_building=list(range(1500, 700, -100)), map_detail=tiles,\n",
    "                 data_directory=widgets.fixed(\"data/Collidium\"))\n"
   ]
  },
  {
   "cell_type": "markdown",
   "metadata": {},
   "source": [
    "# Use case 6: Allow user to explore collision volumes by adjusting all variables"
   ]
  },
  {
   "cell_type": "code",
   "execution_count": 21,
   "metadata": {
    "scrolled": false
   },
   "outputs": [
    {
     "data": {
      "application/vnd.jupyter.widget-view+json": {
       "model_id": "859a1ee2a94147abbf59618b0e413f08",
       "version_major": 2,
       "version_minor": 0
      },
      "text/plain": [
       "interactive(children=(Dropdown(description='building_category', options=('All', 'COMMERCIAL', 'MULTIFAMILY', '…"
      ]
     },
     "metadata": {},
     "output_type": "display_data"
    },
    {
     "data": {
      "text/plain": [
       "<function interactions_functionality.all_factor_interact(building_category, building_year, collision_interval, collision_severity, collision_type, radius_from_building, map_detail='Low', data_directory='data/Collidium')>"
      ]
     },
     "execution_count": 21,
     "metadata": {},
     "output_type": "execute_result"
    }
   ],
   "source": [
    "widgets.interact_manual(int_func.all_factor_interact, building_category=building_categories,\n",
    "                        building_year=list(range(2017, 2013, -1)), collision_interval=list(range(12, 5, -1)),\n",
    "                        collision_severity=collision_severity, collision_type=collision_type, \n",
    "                        radius_from_building=list(range(1500, 700, -100)),  map_detail=tiles, \n",
    "                        data_directory=widgets.fixed(\"data/Collidium\"))"
   ]
  },
  {
   "cell_type": "code",
   "execution_count": null,
   "metadata": {},
   "outputs": [],
   "source": []
  }
 ],
 "metadata": {
  "kernelspec": {
   "display_name": "Python 3",
   "language": "python",
   "name": "python3"
  },
  "language_info": {
   "codemirror_mode": {
    "name": "ipython",
    "version": 3
   },
   "file_extension": ".py",
   "mimetype": "text/x-python",
   "name": "python",
   "nbconvert_exporter": "python",
   "pygments_lexer": "ipython3",
   "version": "3.6.5"
  }
 },
 "nbformat": 4,
 "nbformat_minor": 2
}
