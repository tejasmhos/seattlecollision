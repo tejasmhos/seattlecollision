{
 "cells": [
  {
   "cell_type": "code",
   "execution_count": 1,
   "metadata": {},
   "outputs": [],
   "source": [
    "import branca\n",
    "import csv\n",
    "import datetime\n",
    "import folium\n",
    "import sqlite3\n",
    "import ipywidgets as widgets\n",
    "import numpy as np\n",
    "import pandas as pd\n",
    "import draw_markers\n",
    "import interactions_functionality as int_func\n",
    "from query_class import CollidiumQuery"
   ]
  },
  {
   "cell_type": "code",
   "execution_count": 2,
   "metadata": {},
   "outputs": [
    {
     "data": {
      "text/plain": [
       "<module 'draw_markers' from 'C:\\\\Users\\\\Alyssa\\\\Desktop\\\\Data_515 Project\\\\seattlecollision\\\\seattlecollision\\\\draw_markers.py'>"
      ]
     },
     "execution_count": 2,
     "metadata": {},
     "output_type": "execute_result"
    }
   ],
   "source": [
    "import importlib\n",
    "importlib.reload(draw_markers)\n"
   ]
  },
  {
   "cell_type": "code",
   "execution_count": 7,
   "metadata": {},
   "outputs": [],
   "source": [
    "cols_needed = [\"b_category\", \"base_year\",\"c_severity\", \"c_type\"]\n",
    "building_categories, building_years, collision_severity, collision_type = int_func.generate_categories(cols_needed)\n",
    "tiles = ['Low', 'High']"
   ]
  },
  {
   "cell_type": "markdown",
   "metadata": {},
   "source": [
    "## Use case 1: Explore how building categories affected collisions"
   ]
  },
  {
   "cell_type": "code",
   "execution_count": 8,
   "metadata": {
    "scrolled": false
   },
   "outputs": [
    {
     "data": {
      "application/vnd.jupyter.widget-view+json": {
       "model_id": "bec13af0bbe44e4f90c72b6b4b01d4c1",
       "version_major": 2,
       "version_minor": 0
      },
      "text/plain": [
       "interactive(children=(Dropdown(description='Buildings', options=('All', 'COMMERCIAL', 'MULTIFAMILY', 'INDUSTRI…"
      ]
     },
     "metadata": {},
     "output_type": "display_data"
    },
    {
     "data": {
      "text/plain": [
       "<function interactions_functionality.build_type_interact(building_category, map_detail='Low', data_directory='data/Collidium')>"
      ]
     },
     "execution_count": 8,
     "metadata": {},
     "output_type": "execute_result"
    }
   ],
   "source": [
    "widgets.interact(int_func.build_type_interact,\n",
    "                 building_category=widgets.Dropdown(options=building_categories, description='Buildings'), \n",
    "                 map_detail=widgets.Dropdown(options=tiles, description='Map detail'),\n",
    "                 data_directory = widgets.fixed(\"data/Collidium\"))\n"
   ]
  },
  {
   "cell_type": "markdown",
   "metadata": {},
   "source": [
    "## Use case 2: Explore how collisions varied around buildings in different years"
   ]
  },
  {
   "cell_type": "code",
   "execution_count": 9,
   "metadata": {
    "scrolled": false
   },
   "outputs": [
    {
     "data": {
      "application/vnd.jupyter.widget-view+json": {
       "model_id": "56d51abaeeb6410ca7117281ec9dfd3e",
       "version_major": 2,
       "version_minor": 0
      },
      "text/plain": [
       "interactive(children=(Dropdown(description='Year Built', options=(2017, 2016, 2015, 2014), value=2017), Dropdo…"
      ]
     },
     "metadata": {},
     "output_type": "display_data"
    },
    {
     "data": {
      "text/plain": [
       "<function interactions_functionality.year_int_interact(building_year, collision_interval, map_detail='Low', data_directory='data/Collidium')>"
      ]
     },
     "execution_count": 9,
     "metadata": {},
     "output_type": "execute_result"
    }
   ],
   "source": [
    "widgets.interact(int_func.year_int_interact, \n",
    "                 building_year=widgets.Dropdown(options=list(range(2017,2013,-1)), description='Year Built'),\n",
    "                 collision_interval=widgets.Dropdown(options=list(range(12,5,-1)), description='Interval'),\n",
    "                 map_detail=widgets.Dropdown(options=tiles, description='Map detail'),\n",
    "                 data_directory=widgets.fixed(\"data/Collidium\"))"
   ]
  },
  {
   "cell_type": "markdown",
   "metadata": {},
   "source": [
    "## Use case 3: Explore how collision severity changed before, during and after building construction"
   ]
  },
  {
   "cell_type": "code",
   "execution_count": 10,
   "metadata": {
    "scrolled": false
   },
   "outputs": [
    {
     "data": {
      "application/vnd.jupyter.widget-view+json": {
       "model_id": "c6a2d99b021e43d193ee6af11636497b",
       "version_major": 2,
       "version_minor": 0
      },
      "text/plain": [
       "interactive(children=(Dropdown(description='Severity', options=('All', 'Property Damage Only', 'Injury', 'Seri…"
      ]
     },
     "metadata": {},
     "output_type": "display_data"
    },
    {
     "data": {
      "text/plain": [
       "<function interactions_functionality.collision_severity_interact(collision_severity, map_detail='Low', data_directory='data/Collidium')>"
      ]
     },
     "execution_count": 10,
     "metadata": {},
     "output_type": "execute_result"
    }
   ],
   "source": [
    "widgets.interact(int_func.collision_severity_interact, \n",
    "                 collision_severity=widgets.Dropdown(options=collision_severity, description='Severity'),\n",
    "                 map_detail=widgets.Dropdown(options=tiles, description='Map detail'),\n",
    "                 data_directory=widgets.fixed(\"data/Collidium\"))\n"
   ]
  },
  {
   "cell_type": "markdown",
   "metadata": {},
   "source": [
    "## Use case 4: Explore how collision victims vary before, during and after building construction"
   ]
  },
  {
   "cell_type": "code",
   "execution_count": 11,
   "metadata": {},
   "outputs": [
    {
     "data": {
      "application/vnd.jupyter.widget-view+json": {
       "model_id": "874857f20e494be5b10a960adb04959f",
       "version_major": 2,
       "version_minor": 0
      },
      "text/plain": [
       "interactive(children=(Dropdown(description='Type', options=('All', 'Vehicle Only', 'Bike/Pedestrian'), value='…"
      ]
     },
     "metadata": {},
     "output_type": "display_data"
    },
    {
     "data": {
      "text/plain": [
       "<function interactions_functionality.collision_type_interact(collision_type, map_detail='Low', data_directory='data/Collidium')>"
      ]
     },
     "execution_count": 11,
     "metadata": {},
     "output_type": "execute_result"
    }
   ],
   "source": [
    "widgets.interact(int_func.collision_type_interact, \n",
    "                 collision_type=widgets.Dropdown(options=collision_type, description='Type'), \n",
    "                 map_detail=widgets.Dropdown(options=tiles, description='Map detail'),                 \n",
    "                 data_directory=widgets.fixed(\"data/Collidium\"))\n"
   ]
  },
  {
   "cell_type": "markdown",
   "metadata": {},
   "source": [
    "## Use case 5: Explore how collision volumes vary depending on proximity to building construction"
   ]
  },
  {
   "cell_type": "code",
   "execution_count": 12,
   "metadata": {},
   "outputs": [
    {
     "data": {
      "application/vnd.jupyter.widget-view+json": {
       "model_id": "d18111dbb819415e8cdce776ab1a61a5",
       "version_major": 2,
       "version_minor": 0
      },
      "text/plain": [
       "interactive(children=(Dropdown(description='Max Distance', options=(1500, 1400, 1300, 1200, 1100, 1000, 900, 8…"
      ]
     },
     "metadata": {},
     "output_type": "display_data"
    },
    {
     "data": {
      "text/plain": [
       "<function interactions_functionality.radius_interact(radius_from_building, map_detail='Low', data_directory='data/Collidium')>"
      ]
     },
     "execution_count": 12,
     "metadata": {},
     "output_type": "execute_result"
    }
   ],
   "source": [
    "widgets.interact(int_func.radius_interact, \n",
    "                 radius_from_building=widgets.Dropdown(options=list(range(1500, 700, -100)), description='Max Distance'), \n",
    "                 map_detail=widgets.Dropdown(options=tiles, description='Map detail'),\n",
    "                 data_directory = widgets.fixed(\"data/Collidium\"))\n"
   ]
  },
  {
   "cell_type": "markdown",
   "metadata": {},
   "source": [
    "# Use case 6: Allow user to explore collision volumes by adjusting all variables"
   ]
  },
  {
   "cell_type": "code",
   "execution_count": 13,
   "metadata": {
    "scrolled": false
   },
   "outputs": [
    {
     "data": {
      "application/vnd.jupyter.widget-view+json": {
       "model_id": "373f74b6f9254979994a7abde2af9b4c",
       "version_major": 2,
       "version_minor": 0
      },
      "text/plain": [
       "interactive(children=(Dropdown(description='Buildings', options=('All', 'COMMERCIAL', 'MULTIFAMILY', 'INDUSTRI…"
      ]
     },
     "metadata": {},
     "output_type": "display_data"
    },
    {
     "data": {
      "text/plain": [
       "<function interactions_functionality.all_factor_interact(building_category, building_year, collision_interval, collision_severity, collision_type, radius_from_building, map_detail='Low', data_directory='data/Collidium')>"
      ]
     },
     "execution_count": 13,
     "metadata": {},
     "output_type": "execute_result"
    }
   ],
   "source": [
    "widgets.interact_manual(int_func.all_factor_interact, \n",
    "                        building_category=widgets.Dropdown(options=building_categories, description='Buildings'), \n",
    "                        building_year=widgets.Dropdown(options=list(range(2017, 2013, -1)), description='Year Built'), \n",
    "                        collision_interval=widgets.Dropdown(options=list(range(12, 5, -1)), description='Interval'), \n",
    "                        collision_severity=widgets.Dropdown(options=collision_severity, description='Severity'), \n",
    "                        collision_type=widgets.Dropdown(options=collision_type, description='Type'), \n",
    "                        radius_from_building=widgets.Dropdown(options=list(range(1500, 700, -100)), description='Max Distance'), \n",
    "                        map_detail=widgets.Dropdown(options=tiles, description='Map detail'),\n",
    "                        data_directory = widgets.fixed(\"data/Collidium\"))"
   ]
  },
  {
   "cell_type": "code",
   "execution_count": null,
   "metadata": {},
   "outputs": [],
   "source": []
  }
 ],
 "metadata": {
  "kernelspec": {
   "display_name": "Python 3",
   "language": "python",
   "name": "python3"
  },
  "language_info": {
   "codemirror_mode": {
    "name": "ipython",
    "version": 3
   },
   "file_extension": ".py",
   "mimetype": "text/x-python",
   "name": "python",
   "nbconvert_exporter": "python",
   "pygments_lexer": "ipython3",
   "version": "3.6.5"
  }
 },
 "nbformat": 4,
 "nbformat_minor": 2
}
