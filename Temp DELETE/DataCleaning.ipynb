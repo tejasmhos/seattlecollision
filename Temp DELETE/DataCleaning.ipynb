{
 "cells": [
  {
   "cell_type": "code",
   "execution_count": 1,
   "metadata": {
    "collapsed": true
   },
   "outputs": [],
   "source": [
    "from IPython.core.interactiveshell import InteractiveShell\n",
    "InteractiveShell.ast_node_interactivity = \"all\""
   ]
  },
  {
   "cell_type": "code",
   "execution_count": 17,
   "metadata": {},
   "outputs": [
    {
     "ename": "ModuleNotFoundError",
     "evalue": "No module named 'timestring'",
     "output_type": "error",
     "traceback": [
      "\u001b[0;31m---------------------------------------------------------------------------\u001b[0m",
      "\u001b[0;31mModuleNotFoundError\u001b[0m                       Traceback (most recent call last)",
      "\u001b[0;32m<ipython-input-17-70d42db0ef4f>\u001b[0m in \u001b[0;36m<module>\u001b[0;34m()\u001b[0m\n\u001b[1;32m      1\u001b[0m \u001b[0;32mimport\u001b[0m \u001b[0mpandas\u001b[0m \u001b[0;32mas\u001b[0m \u001b[0mpd\u001b[0m\u001b[0;34m\u001b[0m\u001b[0m\n\u001b[1;32m      2\u001b[0m \u001b[0;32mimport\u001b[0m \u001b[0mnumpy\u001b[0m \u001b[0;32mas\u001b[0m \u001b[0mnp\u001b[0m\u001b[0;34m\u001b[0m\u001b[0m\n\u001b[0;32m----> 3\u001b[0;31m \u001b[0;32mimport\u001b[0m \u001b[0mtimestring\u001b[0m\u001b[0;34m\u001b[0m\u001b[0m\n\u001b[0m",
      "\u001b[0;31mModuleNotFoundError\u001b[0m: No module named 'timestring'"
     ]
    }
   ],
   "source": [
    "import pandas as pd\n",
    "import numpy as np\n",
    "import timestring\n",
    "import os"
   ]
  },
  {
   "cell_type": "code",
   "execution_count": 3,
   "metadata": {
    "collapsed": true
   },
   "outputs": [],
   "source": [
    "collisions_rawdata = pd.read_csv('GitHub/data/Collisions.csv', sep=',',header=0)\n",
    "collisions = collisions_rawdata.copy()\n",
    "buildings_rawdata = pd.read_csv('GitHub/data/clean_permits.csv', sep=',',header=0, index_col = 0)\n",
    "buildings = buildings_rawdata.copy()"
   ]
  },
  {
   "cell_type": "code",
   "execution_count": 32,
   "metadata": {},
   "outputs": [
    {
     "data": {
      "text/plain": [
       "(191019, 10)"
      ]
     },
     "execution_count": 32,
     "metadata": {},
     "output_type": "execute_result"
    }
   ],
   "source": [
    "collisions = collisions[[\"objectid\",\n",
    "                          \"X\",\n",
    "                          \"Y\",\n",
    "                           \"incdate\",\n",
    "                           \"incdttm\",\n",
    "                          \"pedcount\",\n",
    "                          \"pedcylcount\",\n",
    "                          \"severitycode\",\n",
    "                          \"severitydesc\"]]\n",
    "collisions.dropna(inplace=True)\n",
    "collisions = collisions.rename(columns={\"objectid\": \"c_id\", \n",
    "                                      \"X\": \"c_long\", \n",
    "                                      \"Y\":\"c_lat\", \n",
    "                                      \"incdate\": \"c_date\", \n",
    "                                      \"incdttm\":\"c_datetime\",\n",
    "                                      \"pedcount\": \"c_ped\",\n",
    "                                      \"pedcylcount\" : \"c_cyc\",\n",
    "                                       \"severitycode\" : \"c_severity_code\",\n",
    "                                       \"severitydesc\" : \"c_severity_desc\"})\n",
    "collisions['c_veh'] = np.where(collisions['c_cyc']==0,np.where(collisions['c_ped']==0,1,0),0)\n",
    "collisions = collisions[collisions[\"c_severity_desc\"] != \"Unknown\"]\n",
    "collisions.shape\n",
    "#collisions.to_csv('processed_collisions.csv')"
   ]
  },
  {
   "cell_type": "code",
   "execution_count": 34,
   "metadata": {},
   "outputs": [
    {
     "data": {
      "text/plain": [
       "(173899, 10)"
      ]
     },
     "execution_count": 34,
     "metadata": {},
     "output_type": "execute_result"
    }
   ],
   "source": [
    "collisions = collisions[collisions[\"c_severity_desc\"] != \"Unknown\"]\n",
    "collisions.shape"
   ]
  },
  {
   "cell_type": "code",
   "execution_count": 35,
   "metadata": {},
   "outputs": [],
   "source": [
    "def collision_clean(file_path):\n",
    "    collisions = pd.read_csv(file_path, sep=',',header=0)\n",
    "    collisions = collisions[[\"objectid\",\n",
    "                              \"X\",\n",
    "                              \"Y\",\n",
    "                               \"incdate\",\n",
    "                               \"incdttm\",\n",
    "                              \"pedcount\",\n",
    "                              \"pedcylcount\",\n",
    "                              \"severitycode\",\n",
    "                              \"severitydesc\"]]\n",
    "    collisions.dropna(inplace=True)\n",
    "    collisions = collisions.rename(columns={\"objectid\": \"c_id\", \n",
    "                                          \"X\": \"c_long\", \n",
    "                                          \"Y\":\"c_lat\", \n",
    "                                          \"incdate\": \"c_date\", \n",
    "                                          \"incdttm\":\"c_datetime\",\n",
    "                                          \"pedcount\": \"c_ped\",\n",
    "                                          \"pedcylcount\" : \"c_cyc\",\n",
    "                                           \"severitycode\" : \"c_severity_code\",\n",
    "                                           \"severitydesc\" : \"c_severity_desc\"})\n",
    "    collisions['c_veh'] = np.where(collisions['c_cyc']==0,np.where(collisions['c_ped']==0,1,0),0)\n",
    "    collisions = collisions[collisions[\"c_severity_desc\"] != \"Unknown\"]\n",
    "    collisions.to_csv('processed_collisions.csv')\n",
    "    return collisions"
   ]
  },
  {
   "cell_type": "code",
   "execution_count": 29,
   "metadata": {},
   "outputs": [],
   "source": [
    "c_clean = collision_clean(\"GitHub/data/Collisions.csv\")\n"
   ]
  },
  {
   "cell_type": "code",
   "execution_count": 31,
   "metadata": {},
   "outputs": [
    {
     "data": {
      "text/plain": [
       "Property Damage Only Collision    119799\n",
       "Injury Collision                   51126\n",
       "Unknown                            17120\n",
       "Serious Injury Collision            2671\n",
       "Fatality Collision                   303\n",
       "Name: c_severity_desc, dtype: int64"
      ]
     },
     "execution_count": 31,
     "metadata": {},
     "output_type": "execute_result"
    },
    {
     "data": {
      "text/plain": [
       "(191019, 10)"
      ]
     },
     "execution_count": 31,
     "metadata": {},
     "output_type": "execute_result"
    }
   ],
   "source": [
    "c_clean.c_severity_desc.value_counts()\n",
    "c_clean.shape"
   ]
  },
  {
   "cell_type": "code",
   "execution_count": 16,
   "metadata": {},
   "outputs": [
    {
     "data": {
      "text/plain": [
       "SINGLE FAMILY / DUPLEX    30718\n",
       "COMMERCIAL                16148\n",
       "MULTIFAMILY                6814\n",
       "INSTITUTIONAL              1562\n",
       "INDUSTRIAL                  661\n",
       "Name: Category, dtype: int64"
      ]
     },
     "execution_count": 16,
     "metadata": {},
     "output_type": "execute_result"
    },
    {
     "data": {
      "text/plain": [
       "<generator object DataFrame.iterrows at 0x1160043b8>"
      ]
     },
     "execution_count": 16,
     "metadata": {},
     "output_type": "execute_result"
    },
    {
     "ename": "NameError",
     "evalue": "name 'timestring' is not defined",
     "output_type": "error",
     "traceback": [
      "\u001b[0;31m---------------------------------------------------------------------------\u001b[0m",
      "\u001b[0;31mNameError\u001b[0m                                 Traceback (most recent call last)",
      "\u001b[0;32m<ipython-input-16-1d81ae94d12f>\u001b[0m in \u001b[0;36m<module>\u001b[0;34m()\u001b[0m\n\u001b[1;32m      2\u001b[0m \u001b[0mbuildings\u001b[0m\u001b[0;34m.\u001b[0m\u001b[0miterrows\u001b[0m\u001b[0;34m(\u001b[0m\u001b[0;34m)\u001b[0m\u001b[0;34m\u001b[0m\u001b[0m\n\u001b[1;32m      3\u001b[0m \u001b[0;34m\u001b[0m\u001b[0m\n\u001b[0;32m----> 4\u001b[0;31m \u001b[0mtimestring\u001b[0m\u001b[0;34m.\u001b[0m\u001b[0mDate\u001b[0m\u001b[0;34m(\u001b[0m\u001b[0mbuildings\u001b[0m\u001b[0;34m[\u001b[0m\u001b[0;34m\"b_issue_date\"\u001b[0m\u001b[0;34m]\u001b[0m\u001b[0;34m)\u001b[0m\u001b[0;34m.\u001b[0m\u001b[0mdate\u001b[0m\u001b[0;34m\u001b[0m\u001b[0m\n\u001b[0m",
      "\u001b[0;31mNameError\u001b[0m: name 'timestring' is not defined"
     ]
    }
   ],
   "source": [
    "buildings[\"Category\"].value_counts()\n",
    "buildings.iterrows()\n",
    "\n",
    "timestring.Date(buildings[\"b_issue_date\"]).date"
   ]
  },
  {
   "cell_type": "code",
   "execution_count": null,
   "metadata": {
    "collapsed": true
   },
   "outputs": [],
   "source": [
    "for b in buildings.iterrows():\n",
    "                    'build_start_dt': timestring.Date(b[\"b_issue_date\"]).date,\n",
    "                    'build_end_dt': timestring.Date(b[\"b_final_date\"]).date,\n",
    "                    'coll_dt': timestring.Date(c[\"c_datetime\"]).date,"
   ]
  },
  {
   "cell_type": "markdown",
   "metadata": {},
   "source": [
    "Some issues with date formats, need to decide how to format the pedestrian cyclist count.\n",
    "Add filename error\n",
    "Add unit tests = check null values,\n",
    "\n",
    "len(collisions2[collisions[\"pedcount\"]"
   ]
  },
  {
   "cell_type": "code",
   "execution_count": 36,
   "metadata": {
    "collapsed": true
   },
   "outputs": [],
   "source": [
    "def buildings_clean(file_path):\n",
    "    buildings = pd.read_csv(file_path, sep=',',header=0, index_col = 0)\n",
    "    buildings = buildings[[\"Application/Permit Number\",\n",
    "                         \"Permit Type\",\n",
    "                         \"Category\", \n",
    "                         \"Action Type\",\n",
    "                         \"Work Type\",\n",
    "                         \"Value\",\n",
    "                         \"Issue Date\",\n",
    "                         \"Final Date\",\n",
    "                         \"Expiration Date\",\n",
    "                         \"Status\",\n",
    "                         \"Latitude\",\n",
    "                         \"Longitude\"]]\n",
    "    buildings = buildings[buildings[\"Action Type\"]==\"NEW\"]\n",
    "    buildings = buildings[buildings[\"Category\"]==\"COMMERCIAL\"]\n",
    "    buildings = buildings[buildings[\"Value\"] > 250000]\n",
    "    buildings = buildings[pd.notnull(buildings[\"Issue Date\"])]\n",
    "    buildings = buildings[pd.notnull(buildings[\"Final Date\"]) | pd.notnull(buildings[\"Expiration Date\"])]\n",
    "    buildings = buildings[buildings[\"Status\"] != \"CANCELLED\"]\n",
    "    buildings = buildings.rename(columns={\"Application/Permit Number\": \"b_id\", \n",
    "                                          \"Permit Type\": \"b_permit_type\", \n",
    "                                          \"Category\" : \"b_category\", \n",
    "                                          \"Action Type\" : \"b_action_type\", \n",
    "                                          \"Work Type\" : \"b_work_type\",\n",
    "                                          \"Value\": \"b_value\",\n",
    "                                          \"Issue Date\" : \"b_issue_date\",\n",
    "                                          \"Final Date\" : \"b_final_date\",\n",
    "                                       \"Expiration Date\" : \"b_expiration_date\",\n",
    "                                       \"Status\" : \"b_status\",\n",
    "                                       \"Latitude\" : \"b_lat\",\n",
    "                                        \"Longitude\" : \"b_long\" })\n",
    "    buildings.to_csv('buildings_clean.csv')\n",
    "    return buildings\n",
    "    \n",
    "    \n",
    "                    "
   ]
  },
  {
   "cell_type": "code",
   "execution_count": null,
   "metadata": {
    "collapsed": true
   },
   "outputs": [],
   "source": []
  },
  {
   "cell_type": "code",
   "execution_count": 37,
   "metadata": {},
   "outputs": [],
   "source": [
    "dan = buildings_clean('GitHub/data/clean_permits.csv')"
   ]
  },
  {
   "cell_type": "code",
   "execution_count": 40,
   "metadata": {},
   "outputs": [
    {
     "data": {
      "text/plain": [
       "Permit Closed                   236\n",
       "Permit Issued                   221\n",
       "Cert of Occupancy Authorized     10\n",
       "Permit Finaled                    5\n",
       "Name: b_status, dtype: int64"
      ]
     },
     "execution_count": 40,
     "metadata": {},
     "output_type": "execute_result"
    }
   ],
   "source": [
    "dan.b_status.value_counts()\n"
   ]
  },
  {
   "cell_type": "code",
   "execution_count": 14,
   "metadata": {},
   "outputs": [
    {
     "data": {
      "text/plain": [
       "59166"
      ]
     },
     "execution_count": 14,
     "metadata": {},
     "output_type": "execute_result"
    },
    {
     "data": {
      "text/plain": [
       "59163"
      ]
     },
     "execution_count": 14,
     "metadata": {},
     "output_type": "execute_result"
    },
    {
     "data": {
      "text/plain": [
       "Index(['Application/Permit Number', 'Permit Type', 'Address', 'Description',\n",
       "       'Category', 'Action Type', 'Work Type', 'Value', 'Applicant Name',\n",
       "       'Application Date', 'Issue Date', 'Final Date', 'Expiration Date',\n",
       "       'Status', 'Contractor', 'Permit and Complaint Status URL',\n",
       "       'Master Use Permit', 'Latitude', 'Longitude', 'Location'],\n",
       "      dtype='object')"
      ]
     },
     "execution_count": 14,
     "metadata": {},
     "output_type": "execute_result"
    },
    {
     "data": {
      "text/html": [
       "<div>\n",
       "<style>\n",
       "    .dataframe thead tr:only-child th {\n",
       "        text-align: right;\n",
       "    }\n",
       "\n",
       "    .dataframe thead th {\n",
       "        text-align: left;\n",
       "    }\n",
       "\n",
       "    .dataframe tbody tr th {\n",
       "        vertical-align: top;\n",
       "    }\n",
       "</style>\n",
       "<table border=\"1\" class=\"dataframe\">\n",
       "  <thead>\n",
       "    <tr style=\"text-align: right;\">\n",
       "      <th></th>\n",
       "      <th>Application/Permit Number</th>\n",
       "      <th>Permit Type</th>\n",
       "      <th>Address</th>\n",
       "      <th>Description</th>\n",
       "      <th>Category</th>\n",
       "      <th>Action Type</th>\n",
       "      <th>Work Type</th>\n",
       "      <th>Value</th>\n",
       "      <th>Applicant Name</th>\n",
       "      <th>Application Date</th>\n",
       "      <th>Issue Date</th>\n",
       "      <th>Final Date</th>\n",
       "      <th>Expiration Date</th>\n",
       "      <th>Status</th>\n",
       "      <th>Contractor</th>\n",
       "      <th>Permit and Complaint Status URL</th>\n",
       "      <th>Master Use Permit</th>\n",
       "      <th>Latitude</th>\n",
       "      <th>Longitude</th>\n",
       "      <th>Location</th>\n",
       "    </tr>\n",
       "  </thead>\n",
       "  <tbody>\n",
       "    <tr>\n",
       "      <th>0</th>\n",
       "      <td>6640897</td>\n",
       "      <td>Demolition</td>\n",
       "      <td>700 22ND AVE</td>\n",
       "      <td>Demolish existing church, per plan.</td>\n",
       "      <td>COMMERCIAL</td>\n",
       "      <td>DEMOLITION</td>\n",
       "      <td>Plan Review</td>\n",
       "      <td>0.0</td>\n",
       "      <td>SQUIRES, GREG</td>\n",
       "      <td>2018-01-31</td>\n",
       "      <td>2018-03-06</td>\n",
       "      <td>NaN</td>\n",
       "      <td>2019-09-06</td>\n",
       "      <td>Permit Issued</td>\n",
       "      <td>NaN</td>\n",
       "      <td>http://web6.seattle.gov/dpd/PermitStatus/Proje...</td>\n",
       "      <td>NaN</td>\n",
       "      <td>47.608206</td>\n",
       "      <td>-122.303403</td>\n",
       "      <td>700 22ND AVE\\n(47.60820558, -122.30340248)</td>\n",
       "    </tr>\n",
       "    <tr>\n",
       "      <th>1</th>\n",
       "      <td>6648574</td>\n",
       "      <td>Demolition</td>\n",
       "      <td>5045 26TH AVE SW</td>\n",
       "      <td>Demolish existing single-family residence, per...</td>\n",
       "      <td>SINGLE FAMILY / DUPLEX</td>\n",
       "      <td>DEMOLITION</td>\n",
       "      <td>No plan review</td>\n",
       "      <td>0.0</td>\n",
       "      <td>LEDOUX, JULIE</td>\n",
       "      <td>2018-03-06</td>\n",
       "      <td>NaN</td>\n",
       "      <td>NaN</td>\n",
       "      <td>NaN</td>\n",
       "      <td>Reviews Completed</td>\n",
       "      <td>NaN</td>\n",
       "      <td>http://web6.seattle.gov/dpd/PermitStatus/Proje...</td>\n",
       "      <td>NaN</td>\n",
       "      <td>47.556140</td>\n",
       "      <td>-122.365875</td>\n",
       "      <td>5045 26TH AVE SW\\n(47.55614034, -122.36587533)</td>\n",
       "    </tr>\n",
       "    <tr>\n",
       "      <th>2</th>\n",
       "      <td>6623889</td>\n",
       "      <td>Construction</td>\n",
       "      <td>2563 27TH AVE W</td>\n",
       "      <td>Complete and final to AP# 6324087, subject to ...</td>\n",
       "      <td>SINGLE FAMILY / DUPLEX</td>\n",
       "      <td>ADD/ALT</td>\n",
       "      <td>No plan review</td>\n",
       "      <td>8000.0</td>\n",
       "      <td>WAGAR, JAMES &amp; JANA</td>\n",
       "      <td>2018-03-06</td>\n",
       "      <td>2018-03-06</td>\n",
       "      <td>NaN</td>\n",
       "      <td>2019-09-06</td>\n",
       "      <td>Permit Issued</td>\n",
       "      <td>NaN</td>\n",
       "      <td>http://web6.seattle.gov/dpd/PermitStatus/Proje...</td>\n",
       "      <td>NaN</td>\n",
       "      <td>47.642781</td>\n",
       "      <td>-122.391991</td>\n",
       "      <td>2563 27TH AVE W\\n(47.64278125, -122.39199076)</td>\n",
       "    </tr>\n",
       "    <tr>\n",
       "      <th>3</th>\n",
       "      <td>6561444</td>\n",
       "      <td>Construction</td>\n",
       "      <td>2552 24TH AVE W</td>\n",
       "      <td>Construct alterations to existing single famil...</td>\n",
       "      <td>SINGLE FAMILY / DUPLEX</td>\n",
       "      <td>ADD/ALT</td>\n",
       "      <td>Plan Review</td>\n",
       "      <td>10000.0</td>\n",
       "      <td>FRANKLIN, JUSTIN</td>\n",
       "      <td>2017-01-12</td>\n",
       "      <td>2018-01-29</td>\n",
       "      <td>2018-03-06</td>\n",
       "      <td>2019-07-29</td>\n",
       "      <td>Permit Closed</td>\n",
       "      <td>NaN</td>\n",
       "      <td>http://web6.seattle.gov/dpd/PermitStatus/Proje...</td>\n",
       "      <td>NaN</td>\n",
       "      <td>47.642358</td>\n",
       "      <td>-122.387434</td>\n",
       "      <td>2552 24TH AVE W\\n(47.64235768, -122.38743397)</td>\n",
       "    </tr>\n",
       "    <tr>\n",
       "      <th>4</th>\n",
       "      <td>6617027</td>\n",
       "      <td>Construction</td>\n",
       "      <td>3724 CORLISS AVE N</td>\n",
       "      <td>Construct addition and substantial alterations...</td>\n",
       "      <td>SINGLE FAMILY / DUPLEX</td>\n",
       "      <td>ADD/ALT</td>\n",
       "      <td>Plan Review</td>\n",
       "      <td>214223.0</td>\n",
       "      <td>TRIEGER, JOHN</td>\n",
       "      <td>2017-10-31</td>\n",
       "      <td>2018-01-30</td>\n",
       "      <td>NaN</td>\n",
       "      <td>2019-07-30</td>\n",
       "      <td>Permit Issued</td>\n",
       "      <td>MOUNTAIN TOP BUILDERS</td>\n",
       "      <td>http://web6.seattle.gov/dpd/PermitStatus/Proje...</td>\n",
       "      <td>NaN</td>\n",
       "      <td>47.652753</td>\n",
       "      <td>-122.331250</td>\n",
       "      <td>3724 CORLISS AVE N\\n(47.65275295, -122.33124969)</td>\n",
       "    </tr>\n",
       "  </tbody>\n",
       "</table>\n",
       "</div>"
      ],
      "text/plain": [
       "   Application/Permit Number   Permit Type             Address  \\\n",
       "0                    6640897    Demolition        700 22ND AVE   \n",
       "1                    6648574    Demolition    5045 26TH AVE SW   \n",
       "2                    6623889  Construction     2563 27TH AVE W   \n",
       "3                    6561444  Construction     2552 24TH AVE W   \n",
       "4                    6617027  Construction  3724 CORLISS AVE N   \n",
       "\n",
       "                                         Description                Category  \\\n",
       "0                Demolish existing church, per plan.              COMMERCIAL   \n",
       "1  Demolish existing single-family residence, per...  SINGLE FAMILY / DUPLEX   \n",
       "2  Complete and final to AP# 6324087, subject to ...  SINGLE FAMILY / DUPLEX   \n",
       "3  Construct alterations to existing single famil...  SINGLE FAMILY / DUPLEX   \n",
       "4  Construct addition and substantial alterations...  SINGLE FAMILY / DUPLEX   \n",
       "\n",
       "  Action Type       Work Type     Value       Applicant Name Application Date  \\\n",
       "0  DEMOLITION     Plan Review       0.0        SQUIRES, GREG       2018-01-31   \n",
       "1  DEMOLITION  No plan review       0.0        LEDOUX, JULIE       2018-03-06   \n",
       "2     ADD/ALT  No plan review    8000.0  WAGAR, JAMES & JANA       2018-03-06   \n",
       "3     ADD/ALT     Plan Review   10000.0     FRANKLIN, JUSTIN       2017-01-12   \n",
       "4     ADD/ALT     Plan Review  214223.0        TRIEGER, JOHN       2017-10-31   \n",
       "\n",
       "   Issue Date  Final Date Expiration Date             Status  \\\n",
       "0  2018-03-06         NaN      2019-09-06      Permit Issued   \n",
       "1         NaN         NaN             NaN  Reviews Completed   \n",
       "2  2018-03-06         NaN      2019-09-06      Permit Issued   \n",
       "3  2018-01-29  2018-03-06      2019-07-29      Permit Closed   \n",
       "4  2018-01-30         NaN      2019-07-30      Permit Issued   \n",
       "\n",
       "              Contractor                    Permit and Complaint Status URL  \\\n",
       "0                    NaN  http://web6.seattle.gov/dpd/PermitStatus/Proje...   \n",
       "1                    NaN  http://web6.seattle.gov/dpd/PermitStatus/Proje...   \n",
       "2                    NaN  http://web6.seattle.gov/dpd/PermitStatus/Proje...   \n",
       "3                    NaN  http://web6.seattle.gov/dpd/PermitStatus/Proje...   \n",
       "4  MOUNTAIN TOP BUILDERS  http://web6.seattle.gov/dpd/PermitStatus/Proje...   \n",
       "\n",
       "   Master Use Permit   Latitude   Longitude  \\\n",
       "0                NaN  47.608206 -122.303403   \n",
       "1                NaN  47.556140 -122.365875   \n",
       "2                NaN  47.642781 -122.391991   \n",
       "3                NaN  47.642358 -122.387434   \n",
       "4                NaN  47.652753 -122.331250   \n",
       "\n",
       "                                           Location  \n",
       "0        700 22ND AVE\\n(47.60820558, -122.30340248)  \n",
       "1    5045 26TH AVE SW\\n(47.55614034, -122.36587533)  \n",
       "2     2563 27TH AVE W\\n(47.64278125, -122.39199076)  \n",
       "3     2552 24TH AVE W\\n(47.64235768, -122.38743397)  \n",
       "4  3724 CORLISS AVE N\\n(47.65275295, -122.33124969)  "
      ]
     },
     "execution_count": 14,
     "metadata": {},
     "output_type": "execute_result"
    }
   ],
   "source": [
    "#buildings data cleaning\n",
    "len(buildings[\"Application/Permit Number\"])\n",
    "len(set(buildings[\"Application/Permit Number\"]))\n",
    "buildings.columns\n",
    "buildings.head()"
   ]
  },
  {
   "cell_type": "code",
   "execution_count": 21,
   "metadata": {
    "collapsed": true
   },
   "outputs": [],
   "source": [
    "buildings1 = buildings[[\"Application/Permit Number\",\n",
    "                         \"Permit Type\",\n",
    "                         \"Category\", \n",
    "                         \"Action Type\",\n",
    "                         \"Work Type\",\n",
    "                         \"Value\",\n",
    "                         \"Issue Date\",\n",
    "                         \"Final Date\",\n",
    "                         \"Expiration Date\",\n",
    "                         \"Status\",\n",
    "                         \"Latitude\",\n",
    "                         \"Longitude\"]]\n"
   ]
  },
  {
   "cell_type": "code",
   "execution_count": 43,
   "metadata": {},
   "outputs": [
    {
     "data": {
      "text/plain": [
       "SINGLE FAMILY / DUPLEX    2990\n",
       "MULTIFAMILY               1294\n",
       "COMMERCIAL                 477\n",
       "INSTITUTIONAL               60\n",
       "INDUSTRIAL                  24\n",
       "Name: Category, dtype: int64"
      ]
     },
     "execution_count": 43,
     "metadata": {},
     "output_type": "execute_result"
    },
    {
     "data": {
      "text/html": [
       "<div>\n",
       "<style>\n",
       "    .dataframe thead tr:only-child th {\n",
       "        text-align: right;\n",
       "    }\n",
       "\n",
       "    .dataframe thead th {\n",
       "        text-align: left;\n",
       "    }\n",
       "\n",
       "    .dataframe tbody tr th {\n",
       "        vertical-align: top;\n",
       "    }\n",
       "</style>\n",
       "<table border=\"1\" class=\"dataframe\">\n",
       "  <thead>\n",
       "    <tr style=\"text-align: right;\">\n",
       "      <th></th>\n",
       "      <th>Application/Permit Number</th>\n",
       "      <th>Permit Type</th>\n",
       "      <th>Category</th>\n",
       "      <th>Action Type</th>\n",
       "      <th>Work Type</th>\n",
       "      <th>Value</th>\n",
       "      <th>Issue Date</th>\n",
       "      <th>Final Date</th>\n",
       "      <th>Expiration Date</th>\n",
       "      <th>Status</th>\n",
       "      <th>Latitude</th>\n",
       "      <th>Longitude</th>\n",
       "    </tr>\n",
       "  </thead>\n",
       "  <tbody>\n",
       "    <tr>\n",
       "      <th>10</th>\n",
       "      <td>6552481</td>\n",
       "      <td>Construction</td>\n",
       "      <td>SINGLE FAMILY / DUPLEX</td>\n",
       "      <td>NEW</td>\n",
       "      <td>Plan Review</td>\n",
       "      <td>260717.0</td>\n",
       "      <td>2017-06-06</td>\n",
       "      <td>NaN</td>\n",
       "      <td>2018-12-06</td>\n",
       "      <td>Permit Issued</td>\n",
       "      <td>47.589004</td>\n",
       "      <td>-122.304421</td>\n",
       "    </tr>\n",
       "    <tr>\n",
       "      <th>23</th>\n",
       "      <td>6584024</td>\n",
       "      <td>Construction</td>\n",
       "      <td>MULTIFAMILY</td>\n",
       "      <td>NEW</td>\n",
       "      <td>Plan Review</td>\n",
       "      <td>529743.0</td>\n",
       "      <td>2018-03-06</td>\n",
       "      <td>NaN</td>\n",
       "      <td>2019-09-06</td>\n",
       "      <td>Permit Issued</td>\n",
       "      <td>47.672580</td>\n",
       "      <td>-122.377729</td>\n",
       "    </tr>\n",
       "    <tr>\n",
       "      <th>46</th>\n",
       "      <td>6588004</td>\n",
       "      <td>Construction</td>\n",
       "      <td>SINGLE FAMILY / DUPLEX</td>\n",
       "      <td>NEW</td>\n",
       "      <td>Plan Review</td>\n",
       "      <td>454332.0</td>\n",
       "      <td>2018-03-06</td>\n",
       "      <td>NaN</td>\n",
       "      <td>2019-09-06</td>\n",
       "      <td>Permit Issued</td>\n",
       "      <td>47.691512</td>\n",
       "      <td>-122.369646</td>\n",
       "    </tr>\n",
       "    <tr>\n",
       "      <th>71</th>\n",
       "      <td>6440671</td>\n",
       "      <td>Construction</td>\n",
       "      <td>MULTIFAMILY</td>\n",
       "      <td>NEW</td>\n",
       "      <td>Plan Review</td>\n",
       "      <td>786928.0</td>\n",
       "      <td>2016-04-26</td>\n",
       "      <td>2017-06-27</td>\n",
       "      <td>2017-10-26</td>\n",
       "      <td>Permit Finaled</td>\n",
       "      <td>47.621190</td>\n",
       "      <td>-122.298079</td>\n",
       "    </tr>\n",
       "    <tr>\n",
       "      <th>143</th>\n",
       "      <td>6337999</td>\n",
       "      <td>Construction</td>\n",
       "      <td>SINGLE FAMILY / DUPLEX</td>\n",
       "      <td>NEW</td>\n",
       "      <td>Plan Review</td>\n",
       "      <td>383433.0</td>\n",
       "      <td>2013-05-21</td>\n",
       "      <td>2014-06-18</td>\n",
       "      <td>2014-11-21</td>\n",
       "      <td>Permit Closed</td>\n",
       "      <td>47.674027</td>\n",
       "      <td>-122.383519</td>\n",
       "    </tr>\n",
       "  </tbody>\n",
       "</table>\n",
       "</div>"
      ],
      "text/plain": [
       "     Application/Permit Number   Permit Type                Category  \\\n",
       "10                     6552481  Construction  SINGLE FAMILY / DUPLEX   \n",
       "23                     6584024  Construction             MULTIFAMILY   \n",
       "46                     6588004  Construction  SINGLE FAMILY / DUPLEX   \n",
       "71                     6440671  Construction             MULTIFAMILY   \n",
       "143                    6337999  Construction  SINGLE FAMILY / DUPLEX   \n",
       "\n",
       "    Action Type    Work Type     Value  Issue Date  Final Date  \\\n",
       "10          NEW  Plan Review  260717.0  2017-06-06         NaN   \n",
       "23          NEW  Plan Review  529743.0  2018-03-06         NaN   \n",
       "46          NEW  Plan Review  454332.0  2018-03-06         NaN   \n",
       "71          NEW  Plan Review  786928.0  2016-04-26  2017-06-27   \n",
       "143         NEW  Plan Review  383433.0  2013-05-21  2014-06-18   \n",
       "\n",
       "    Expiration Date          Status   Latitude   Longitude  \n",
       "10       2018-12-06   Permit Issued  47.589004 -122.304421  \n",
       "23       2019-09-06   Permit Issued  47.672580 -122.377729  \n",
       "46       2019-09-06   Permit Issued  47.691512 -122.369646  \n",
       "71       2017-10-26  Permit Finaled  47.621190 -122.298079  \n",
       "143      2014-11-21   Permit Closed  47.674027 -122.383519  "
      ]
     },
     "execution_count": 43,
     "metadata": {},
     "output_type": "execute_result"
    }
   ],
   "source": [
    "buildings1 = buildings1[buildings1[\"Action Type\"]==\"NEW\"]\n",
    "buildings1 = buildings1[buildings1[\"Value\"] > 250000]\n",
    "buildings1 = buildings1[buildings1[\"Value\"] > 250000]\n",
    "buildings1.Category.value_counts()\n",
    "#dan = buildings1.dropna().shape\n",
    "buildings1.head()\n",
    "buildings1 = buildings1[pd.notnull(buildings1[\"Issue Date\"])]\n",
    "buildings1 = buildings1[pd.notnull(buildings1[\"Final Date\"]) | pd.notnull(buildings1[\"Expiration Date\"])]\n",
    "buildings1 = buildings1[buildings1[\"Status\"] != \"CANCELLED\"]"
   ]
  },
  {
   "cell_type": "code",
   "execution_count": 47,
   "metadata": {},
   "outputs": [
    {
     "data": {
      "text/plain": [
       "Permit Closed                   2753\n",
       "Permit Issued                   1754\n",
       "Permit Finaled                   270\n",
       "Cert of Occupancy Authorized      56\n",
       "Name: Status, dtype: int64"
      ]
     },
     "execution_count": 47,
     "metadata": {},
     "output_type": "execute_result"
    },
    {
     "data": {
      "text/plain": [
       "Index(['Application/Permit Number', 'Permit Type', 'Category', 'Action Type',\n",
       "       'Work Type', 'Value', 'Issue Date', 'Final Date', 'Expiration Date',\n",
       "       'Status', 'Latitude', 'Longitude'],\n",
       "      dtype='object')"
      ]
     },
     "execution_count": 47,
     "metadata": {},
     "output_type": "execute_result"
    },
    {
     "data": {
      "text/plain": [
       "4833"
      ]
     },
     "execution_count": 47,
     "metadata": {},
     "output_type": "execute_result"
    },
    {
     "data": {
      "text/plain": [
       "4833"
      ]
     },
     "execution_count": 47,
     "metadata": {},
     "output_type": "execute_result"
    }
   ],
   "source": [
    "buildings1[\"Status\"].value_counts()\n",
    "\n",
    "buildings1.columns\n",
    "len(buildings1[\"Application/Permit Number\"])\n",
    "len(set(buildings1[\"Application/Permit Number\"]))"
   ]
  },
  {
   "cell_type": "code",
   "execution_count": null,
   "metadata": {
    "collapsed": true
   },
   "outputs": [],
   "source": [
    "buildings1[\"b_end_date\"] = "
   ]
  },
  {
   "cell_type": "code",
   "execution_count": 49,
   "metadata": {},
   "outputs": [
    {
     "data": {
      "text/html": [
       "<div>\n",
       "<style>\n",
       "    .dataframe thead tr:only-child th {\n",
       "        text-align: right;\n",
       "    }\n",
       "\n",
       "    .dataframe thead th {\n",
       "        text-align: left;\n",
       "    }\n",
       "\n",
       "    .dataframe tbody tr th {\n",
       "        vertical-align: top;\n",
       "    }\n",
       "</style>\n",
       "<table border=\"1\" class=\"dataframe\">\n",
       "  <thead>\n",
       "    <tr style=\"text-align: right;\">\n",
       "      <th></th>\n",
       "      <th>b_id</th>\n",
       "      <th>b_permit_type</th>\n",
       "      <th>b_category</th>\n",
       "      <th>b_action_type</th>\n",
       "      <th>b_work_type</th>\n",
       "      <th>b_value</th>\n",
       "      <th>b_issue_date</th>\n",
       "      <th>b_final_date</th>\n",
       "      <th>b_expiration_date</th>\n",
       "      <th>b_status</th>\n",
       "      <th>b_latitude</th>\n",
       "      <th>b_longitude</th>\n",
       "    </tr>\n",
       "  </thead>\n",
       "  <tbody>\n",
       "    <tr>\n",
       "      <th>10</th>\n",
       "      <td>6552481</td>\n",
       "      <td>Construction</td>\n",
       "      <td>SINGLE FAMILY / DUPLEX</td>\n",
       "      <td>NEW</td>\n",
       "      <td>Plan Review</td>\n",
       "      <td>260717.0</td>\n",
       "      <td>2017-06-06</td>\n",
       "      <td>NaN</td>\n",
       "      <td>2018-12-06</td>\n",
       "      <td>Permit Issued</td>\n",
       "      <td>47.589004</td>\n",
       "      <td>-122.304421</td>\n",
       "    </tr>\n",
       "    <tr>\n",
       "      <th>23</th>\n",
       "      <td>6584024</td>\n",
       "      <td>Construction</td>\n",
       "      <td>MULTIFAMILY</td>\n",
       "      <td>NEW</td>\n",
       "      <td>Plan Review</td>\n",
       "      <td>529743.0</td>\n",
       "      <td>2018-03-06</td>\n",
       "      <td>NaN</td>\n",
       "      <td>2019-09-06</td>\n",
       "      <td>Permit Issued</td>\n",
       "      <td>47.672580</td>\n",
       "      <td>-122.377729</td>\n",
       "    </tr>\n",
       "    <tr>\n",
       "      <th>46</th>\n",
       "      <td>6588004</td>\n",
       "      <td>Construction</td>\n",
       "      <td>SINGLE FAMILY / DUPLEX</td>\n",
       "      <td>NEW</td>\n",
       "      <td>Plan Review</td>\n",
       "      <td>454332.0</td>\n",
       "      <td>2018-03-06</td>\n",
       "      <td>NaN</td>\n",
       "      <td>2019-09-06</td>\n",
       "      <td>Permit Issued</td>\n",
       "      <td>47.691512</td>\n",
       "      <td>-122.369646</td>\n",
       "    </tr>\n",
       "    <tr>\n",
       "      <th>71</th>\n",
       "      <td>6440671</td>\n",
       "      <td>Construction</td>\n",
       "      <td>MULTIFAMILY</td>\n",
       "      <td>NEW</td>\n",
       "      <td>Plan Review</td>\n",
       "      <td>786928.0</td>\n",
       "      <td>2016-04-26</td>\n",
       "      <td>2017-06-27</td>\n",
       "      <td>2017-10-26</td>\n",
       "      <td>Permit Finaled</td>\n",
       "      <td>47.621190</td>\n",
       "      <td>-122.298079</td>\n",
       "    </tr>\n",
       "    <tr>\n",
       "      <th>143</th>\n",
       "      <td>6337999</td>\n",
       "      <td>Construction</td>\n",
       "      <td>SINGLE FAMILY / DUPLEX</td>\n",
       "      <td>NEW</td>\n",
       "      <td>Plan Review</td>\n",
       "      <td>383433.0</td>\n",
       "      <td>2013-05-21</td>\n",
       "      <td>2014-06-18</td>\n",
       "      <td>2014-11-21</td>\n",
       "      <td>Permit Closed</td>\n",
       "      <td>47.674027</td>\n",
       "      <td>-122.383519</td>\n",
       "    </tr>\n",
       "  </tbody>\n",
       "</table>\n",
       "</div>"
      ],
      "text/plain": [
       "        b_id b_permit_type              b_category b_action_type  b_work_type  \\\n",
       "10   6552481  Construction  SINGLE FAMILY / DUPLEX           NEW  Plan Review   \n",
       "23   6584024  Construction             MULTIFAMILY           NEW  Plan Review   \n",
       "46   6588004  Construction  SINGLE FAMILY / DUPLEX           NEW  Plan Review   \n",
       "71   6440671  Construction             MULTIFAMILY           NEW  Plan Review   \n",
       "143  6337999  Construction  SINGLE FAMILY / DUPLEX           NEW  Plan Review   \n",
       "\n",
       "      b_value b_issue_date b_final_date b_expiration_date        b_status  \\\n",
       "10   260717.0   2017-06-06          NaN        2018-12-06   Permit Issued   \n",
       "23   529743.0   2018-03-06          NaN        2019-09-06   Permit Issued   \n",
       "46   454332.0   2018-03-06          NaN        2019-09-06   Permit Issued   \n",
       "71   786928.0   2016-04-26   2017-06-27        2017-10-26  Permit Finaled   \n",
       "143  383433.0   2013-05-21   2014-06-18        2014-11-21   Permit Closed   \n",
       "\n",
       "     b_latitude  b_longitude  \n",
       "10    47.589004  -122.304421  \n",
       "23    47.672580  -122.377729  \n",
       "46    47.691512  -122.369646  \n",
       "71    47.621190  -122.298079  \n",
       "143   47.674027  -122.383519  "
      ]
     },
     "execution_count": 49,
     "metadata": {},
     "output_type": "execute_result"
    }
   ],
   "source": [
    "buildings1 = buildings1.rename(columns={\"Application/Permit Number\": \"b_id\", \n",
    "                                          \"Permit Type\": \"b_permit_type\", \n",
    "                                          \"Category\" : \"b_category\", \n",
    "                                          \"Action Type\" : \"b_action_type\", \n",
    "                                          \"Work Type\" : \"b_work_type\",\n",
    "                                          \"Value\": \"b_value\",\n",
    "                                          \"Issue Date\" : \"b_issue_date\",\n",
    "                                          \"Final Date\" : \"b_final_date\",\n",
    "                                       \"Expiration Date\" : \"b_expiration_date\",\n",
    "                                       \"Status\" : \"b_status\",\n",
    "                                       \"Latitude\" : \"b_latitude\",\n",
    "                                        \"Longitude\" : \"b_longitude\" })\n",
    "buildings1.head()\n"
   ]
  },
  {
   "cell_type": "code",
   "execution_count": 55,
   "metadata": {},
   "outputs": [
    {
     "ename": "TypeError",
     "evalue": "unhashable type: 'numpy.ndarray'",
     "output_type": "error",
     "traceback": [
      "\u001b[0;31m---------------------------------------------------------------------------\u001b[0m",
      "\u001b[0;31mTypeError\u001b[0m                                 Traceback (most recent call last)",
      "\u001b[0;32m<ipython-input-55-6c0f924e8936>\u001b[0m in \u001b[0;36m<module>\u001b[0;34m()\u001b[0m\n\u001b[0;32m----> 1\u001b[0;31m \u001b[0mbuildings1\u001b[0m\u001b[0;34m[\u001b[0m\u001b[0;34m\"b_end_date\"\u001b[0m\u001b[0;34m]\u001b[0m \u001b[0;34m=\u001b[0m \u001b[0mbuildings1\u001b[0m\u001b[0;34m[\u001b[0m\u001b[0mnp\u001b[0m\u001b[0;34m.\u001b[0m\u001b[0mwhere\u001b[0m\u001b[0;34m(\u001b[0m\u001b[0mbuildings1\u001b[0m\u001b[0;34m[\u001b[0m\u001b[0;34m\"b_final_date\"\u001b[0m\u001b[0;34m]\u001b[0m\u001b[0;34m.\u001b[0m\u001b[0mnotnull\u001b[0m\u001b[0;34m(\u001b[0m\u001b[0;34m)\u001b[0m\u001b[0;34m)\u001b[0m\u001b[0;34m]\u001b[0m\u001b[0;34m\u001b[0m\u001b[0m\n\u001b[0m",
      "\u001b[0;32m~/anaconda3/lib/python3.6/site-packages/pandas/core/frame.py\u001b[0m in \u001b[0;36m__getitem__\u001b[0;34m(self, key)\u001b[0m\n\u001b[1;32m   1962\u001b[0m             \u001b[0;32mreturn\u001b[0m \u001b[0mself\u001b[0m\u001b[0;34m.\u001b[0m\u001b[0m_getitem_multilevel\u001b[0m\u001b[0;34m(\u001b[0m\u001b[0mkey\u001b[0m\u001b[0;34m)\u001b[0m\u001b[0;34m\u001b[0m\u001b[0m\n\u001b[1;32m   1963\u001b[0m         \u001b[0;32melse\u001b[0m\u001b[0;34m:\u001b[0m\u001b[0;34m\u001b[0m\u001b[0m\n\u001b[0;32m-> 1964\u001b[0;31m             \u001b[0;32mreturn\u001b[0m \u001b[0mself\u001b[0m\u001b[0;34m.\u001b[0m\u001b[0m_getitem_column\u001b[0m\u001b[0;34m(\u001b[0m\u001b[0mkey\u001b[0m\u001b[0;34m)\u001b[0m\u001b[0;34m\u001b[0m\u001b[0m\n\u001b[0m\u001b[1;32m   1965\u001b[0m \u001b[0;34m\u001b[0m\u001b[0m\n\u001b[1;32m   1966\u001b[0m     \u001b[0;32mdef\u001b[0m \u001b[0m_getitem_column\u001b[0m\u001b[0;34m(\u001b[0m\u001b[0mself\u001b[0m\u001b[0;34m,\u001b[0m \u001b[0mkey\u001b[0m\u001b[0;34m)\u001b[0m\u001b[0;34m:\u001b[0m\u001b[0;34m\u001b[0m\u001b[0m\n",
      "\u001b[0;32m~/anaconda3/lib/python3.6/site-packages/pandas/core/frame.py\u001b[0m in \u001b[0;36m_getitem_column\u001b[0;34m(self, key)\u001b[0m\n\u001b[1;32m   1969\u001b[0m         \u001b[0;31m# get column\u001b[0m\u001b[0;34m\u001b[0m\u001b[0;34m\u001b[0m\u001b[0m\n\u001b[1;32m   1970\u001b[0m         \u001b[0;32mif\u001b[0m \u001b[0mself\u001b[0m\u001b[0;34m.\u001b[0m\u001b[0mcolumns\u001b[0m\u001b[0;34m.\u001b[0m\u001b[0mis_unique\u001b[0m\u001b[0;34m:\u001b[0m\u001b[0;34m\u001b[0m\u001b[0m\n\u001b[0;32m-> 1971\u001b[0;31m             \u001b[0;32mreturn\u001b[0m \u001b[0mself\u001b[0m\u001b[0;34m.\u001b[0m\u001b[0m_get_item_cache\u001b[0m\u001b[0;34m(\u001b[0m\u001b[0mkey\u001b[0m\u001b[0;34m)\u001b[0m\u001b[0;34m\u001b[0m\u001b[0m\n\u001b[0m\u001b[1;32m   1972\u001b[0m \u001b[0;34m\u001b[0m\u001b[0m\n\u001b[1;32m   1973\u001b[0m         \u001b[0;31m# duplicate columns & possible reduce dimensionality\u001b[0m\u001b[0;34m\u001b[0m\u001b[0;34m\u001b[0m\u001b[0m\n",
      "\u001b[0;32m~/anaconda3/lib/python3.6/site-packages/pandas/core/generic.py\u001b[0m in \u001b[0;36m_get_item_cache\u001b[0;34m(self, item)\u001b[0m\n\u001b[1;32m   1641\u001b[0m         \u001b[0;34m\"\"\"Return the cached item, item represents a label indexer.\"\"\"\u001b[0m\u001b[0;34m\u001b[0m\u001b[0m\n\u001b[1;32m   1642\u001b[0m         \u001b[0mcache\u001b[0m \u001b[0;34m=\u001b[0m \u001b[0mself\u001b[0m\u001b[0;34m.\u001b[0m\u001b[0m_item_cache\u001b[0m\u001b[0;34m\u001b[0m\u001b[0m\n\u001b[0;32m-> 1643\u001b[0;31m         \u001b[0mres\u001b[0m \u001b[0;34m=\u001b[0m \u001b[0mcache\u001b[0m\u001b[0;34m.\u001b[0m\u001b[0mget\u001b[0m\u001b[0;34m(\u001b[0m\u001b[0mitem\u001b[0m\u001b[0;34m)\u001b[0m\u001b[0;34m\u001b[0m\u001b[0m\n\u001b[0m\u001b[1;32m   1644\u001b[0m         \u001b[0;32mif\u001b[0m \u001b[0mres\u001b[0m \u001b[0;32mis\u001b[0m \u001b[0;32mNone\u001b[0m\u001b[0;34m:\u001b[0m\u001b[0;34m\u001b[0m\u001b[0m\n\u001b[1;32m   1645\u001b[0m             \u001b[0mvalues\u001b[0m \u001b[0;34m=\u001b[0m \u001b[0mself\u001b[0m\u001b[0;34m.\u001b[0m\u001b[0m_data\u001b[0m\u001b[0;34m.\u001b[0m\u001b[0mget\u001b[0m\u001b[0;34m(\u001b[0m\u001b[0mitem\u001b[0m\u001b[0;34m)\u001b[0m\u001b[0;34m\u001b[0m\u001b[0m\n",
      "\u001b[0;31mTypeError\u001b[0m: unhashable type: 'numpy.ndarray'"
     ]
    }
   ],
   "source": [
    "buildings1[\"b_end_date\"] = buildings1[np.where(buildings1[\"b_final_date\"].notnull())]"
   ]
  },
  {
   "cell_type": "code",
   "execution_count": null,
   "metadata": {
    "collapsed": true
   },
   "outputs": [],
   "source": []
  }
 ],
 "metadata": {
  "kernelspec": {
   "display_name": "Python 3",
   "language": "python",
   "name": "python3"
  },
  "language_info": {
   "codemirror_mode": {
    "name": "ipython",
    "version": 3
   },
   "file_extension": ".py",
   "mimetype": "text/x-python",
   "name": "python",
   "nbconvert_exporter": "python",
   "pygments_lexer": "ipython3",
   "version": "3.6.5"
  }
 },
 "nbformat": 4,
 "nbformat_minor": 2
}
