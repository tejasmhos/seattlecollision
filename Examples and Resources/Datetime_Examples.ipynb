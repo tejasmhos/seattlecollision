{
 "cells": [
  {
   "cell_type": "code",
   "execution_count": 1,
   "metadata": {
    "collapsed": true
   },
   "outputs": [],
   "source": [
    "from IPython.core.interactiveshell import InteractiveShell\n",
    "InteractiveShell.ast_node_interactivity = \"all\""
   ]
  },
  {
   "cell_type": "code",
   "execution_count": 2,
   "metadata": {
    "collapsed": true
   },
   "outputs": [],
   "source": [
    "#Import packages\n",
    "import pandas as pd\n",
    "import numpy as np\n",
    "from datetime import datetime"
   ]
  },
  {
   "cell_type": "code",
   "execution_count": 3,
   "metadata": {},
   "outputs": [
    {
     "data": {
      "text/plain": [
       "datetime.datetime(2013, 1, 1, 0, 0)"
      ]
     },
     "execution_count": 3,
     "metadata": {},
     "output_type": "execute_result"
    },
    {
     "name": "stdout",
     "output_type": "stream",
     "text": [
      "2013-01-01 00:00:00\n"
     ]
    }
   ],
   "source": [
    "#Sample use of datetime, parameters(year, month, day)\n",
    "datetime(2013,1,1)\n",
    "print(datetime(2013,1,1))"
   ]
  },
  {
   "cell_type": "code",
   "execution_count": 5,
   "metadata": {},
   "outputs": [
    {
     "data": {
      "text/html": [
       "<div>\n",
       "<style>\n",
       "    .dataframe thead tr:only-child th {\n",
       "        text-align: right;\n",
       "    }\n",
       "\n",
       "    .dataframe thead th {\n",
       "        text-align: left;\n",
       "    }\n",
       "\n",
       "    .dataframe tbody tr th {\n",
       "        vertical-align: top;\n",
       "    }\n",
       "</style>\n",
       "<table border=\"1\" class=\"dataframe\">\n",
       "  <thead>\n",
       "    <tr style=\"text-align: right;\">\n",
       "      <th></th>\n",
       "      <th>c_id</th>\n",
       "      <th>c_long</th>\n",
       "      <th>c_lat</th>\n",
       "      <th>c_datetime</th>\n",
       "      <th>c_ped</th>\n",
       "      <th>c_cyc</th>\n",
       "      <th>c_severity_code</th>\n",
       "      <th>c_severity_desc</th>\n",
       "      <th>c_veh</th>\n",
       "    </tr>\n",
       "  </thead>\n",
       "  <tbody>\n",
       "    <tr>\n",
       "      <th>0</th>\n",
       "      <td>162244138</td>\n",
       "      <td>-122.342323</td>\n",
       "      <td>47.627572</td>\n",
       "      <td>2016-11-04</td>\n",
       "      <td>0</td>\n",
       "      <td>0</td>\n",
       "      <td>1</td>\n",
       "      <td>Property Damage Only Collision</td>\n",
       "      <td>1</td>\n",
       "    </tr>\n",
       "    <tr>\n",
       "      <th>1</th>\n",
       "      <td>162244139</td>\n",
       "      <td>-122.301639</td>\n",
       "      <td>47.630771</td>\n",
       "      <td>2016-12-01</td>\n",
       "      <td>0</td>\n",
       "      <td>0</td>\n",
       "      <td>1</td>\n",
       "      <td>Property Damage Only Collision</td>\n",
       "      <td>1</td>\n",
       "    </tr>\n",
       "    <tr>\n",
       "      <th>2</th>\n",
       "      <td>162244140</td>\n",
       "      <td>-122.290784</td>\n",
       "      <td>47.719253</td>\n",
       "      <td>2016-12-23</td>\n",
       "      <td>0</td>\n",
       "      <td>0</td>\n",
       "      <td>1</td>\n",
       "      <td>Property Damage Only Collision</td>\n",
       "      <td>1</td>\n",
       "    </tr>\n",
       "    <tr>\n",
       "      <th>3</th>\n",
       "      <td>162244141</td>\n",
       "      <td>-122.322535</td>\n",
       "      <td>47.623135</td>\n",
       "      <td>2016-12-21</td>\n",
       "      <td>0</td>\n",
       "      <td>0</td>\n",
       "      <td>1</td>\n",
       "      <td>Property Damage Only Collision</td>\n",
       "      <td>1</td>\n",
       "    </tr>\n",
       "    <tr>\n",
       "      <th>4</th>\n",
       "      <td>162244142</td>\n",
       "      <td>-122.376803</td>\n",
       "      <td>47.689665</td>\n",
       "      <td>2016-12-23</td>\n",
       "      <td>0</td>\n",
       "      <td>0</td>\n",
       "      <td>1</td>\n",
       "      <td>Property Damage Only Collision</td>\n",
       "      <td>1</td>\n",
       "    </tr>\n",
       "  </tbody>\n",
       "</table>\n",
       "</div>"
      ],
      "text/plain": [
       "        c_id      c_long      c_lat  c_datetime  c_ped  c_cyc c_severity_code  \\\n",
       "0  162244138 -122.342323  47.627572  2016-11-04      0      0               1   \n",
       "1  162244139 -122.301639  47.630771  2016-12-01      0      0               1   \n",
       "2  162244140 -122.290784  47.719253  2016-12-23      0      0               1   \n",
       "3  162244141 -122.322535  47.623135  2016-12-21      0      0               1   \n",
       "4  162244142 -122.376803  47.689665  2016-12-23      0      0               1   \n",
       "\n",
       "                  c_severity_desc  c_veh  \n",
       "0  Property Damage Only Collision      1  \n",
       "1  Property Damage Only Collision      1  \n",
       "2  Property Damage Only Collision      1  \n",
       "3  Property Damage Only Collision      1  \n",
       "4  Property Damage Only Collision      1  "
      ]
     },
     "execution_count": 5,
     "metadata": {},
     "output_type": "execute_result"
    },
    {
     "data": {
      "text/html": [
       "<div>\n",
       "<style>\n",
       "    .dataframe thead tr:only-child th {\n",
       "        text-align: right;\n",
       "    }\n",
       "\n",
       "    .dataframe thead th {\n",
       "        text-align: left;\n",
       "    }\n",
       "\n",
       "    .dataframe tbody tr th {\n",
       "        vertical-align: top;\n",
       "    }\n",
       "</style>\n",
       "<table border=\"1\" class=\"dataframe\">\n",
       "  <thead>\n",
       "    <tr style=\"text-align: right;\">\n",
       "      <th></th>\n",
       "      <th>b_id</th>\n",
       "      <th>b_category</th>\n",
       "      <th>b_value</th>\n",
       "      <th>b_issue_date</th>\n",
       "      <th>b_final_date</th>\n",
       "      <th>b_status</th>\n",
       "      <th>b_lat</th>\n",
       "      <th>b_long</th>\n",
       "    </tr>\n",
       "  </thead>\n",
       "  <tbody>\n",
       "    <tr>\n",
       "      <th>736</th>\n",
       "      <td>6401146</td>\n",
       "      <td>COMMERCIAL</td>\n",
       "      <td>30208787.0</td>\n",
       "      <td>2015-04-24</td>\n",
       "      <td>2017-08-24</td>\n",
       "      <td>Permit Closed</td>\n",
       "      <td>47.632094</td>\n",
       "      <td>-122.341914</td>\n",
       "    </tr>\n",
       "    <tr>\n",
       "      <th>773</th>\n",
       "      <td>6461320</td>\n",
       "      <td>COMMERCIAL</td>\n",
       "      <td>1100786.0</td>\n",
       "      <td>2016-01-27</td>\n",
       "      <td>2016-11-23</td>\n",
       "      <td>Permit Closed</td>\n",
       "      <td>47.674024</td>\n",
       "      <td>-122.263702</td>\n",
       "    </tr>\n",
       "    <tr>\n",
       "      <th>780</th>\n",
       "      <td>6405731</td>\n",
       "      <td>MULTIFAMILY</td>\n",
       "      <td>3232908.0</td>\n",
       "      <td>2014-12-23</td>\n",
       "      <td>2016-11-17</td>\n",
       "      <td>Permit Closed</td>\n",
       "      <td>47.561275</td>\n",
       "      <td>-122.388621</td>\n",
       "    </tr>\n",
       "    <tr>\n",
       "      <th>814</th>\n",
       "      <td>6329942</td>\n",
       "      <td>MULTIFAMILY</td>\n",
       "      <td>2649941.0</td>\n",
       "      <td>2013-10-25</td>\n",
       "      <td>2015-02-24</td>\n",
       "      <td>Permit Closed</td>\n",
       "      <td>47.623012</td>\n",
       "      <td>-122.323386</td>\n",
       "    </tr>\n",
       "    <tr>\n",
       "      <th>848</th>\n",
       "      <td>6404113</td>\n",
       "      <td>COMMERCIAL</td>\n",
       "      <td>6257221.0</td>\n",
       "      <td>2016-01-26</td>\n",
       "      <td>2017-12-28</td>\n",
       "      <td>Cert of Occupancy Authorized</td>\n",
       "      <td>47.623695</td>\n",
       "      <td>-122.336230</td>\n",
       "    </tr>\n",
       "  </tbody>\n",
       "</table>\n",
       "</div>"
      ],
      "text/plain": [
       "        b_id   b_category     b_value b_issue_date b_final_date  \\\n",
       "736  6401146   COMMERCIAL  30208787.0   2015-04-24   2017-08-24   \n",
       "773  6461320   COMMERCIAL   1100786.0   2016-01-27   2016-11-23   \n",
       "780  6405731  MULTIFAMILY   3232908.0   2014-12-23   2016-11-17   \n",
       "814  6329942  MULTIFAMILY   2649941.0   2013-10-25   2015-02-24   \n",
       "848  6404113   COMMERCIAL   6257221.0   2016-01-26   2017-12-28   \n",
       "\n",
       "                         b_status      b_lat      b_long  \n",
       "736                 Permit Closed  47.632094 -122.341914  \n",
       "773                 Permit Closed  47.674024 -122.263702  \n",
       "780                 Permit Closed  47.561275 -122.388621  \n",
       "814                 Permit Closed  47.623012 -122.323386  \n",
       "848  Cert of Occupancy Authorized  47.623695 -122.336230  "
      ]
     },
     "execution_count": 5,
     "metadata": {},
     "output_type": "execute_result"
    }
   ],
   "source": [
    "#Import processed collisions and buildings datasets\n",
    "processed_collisions = pd.read_csv('../seattlecollision/data/processed_collisions_outfile.csv', sep=',',header=0, index_col=0)\n",
    "processed_collisions.head()\n",
    "processed_buildings = pd.read_csv('../seattlecollision/data/processed_buildings_outfile.csv', sep=',',header=0, index_col=0)\n",
    "processed_buildings.head()"
   ]
  },
  {
   "cell_type": "code",
   "execution_count": 6,
   "metadata": {
    "collapsed": true
   },
   "outputs": [],
   "source": [
    "#It seems like the datetime format does not hold after being exported to a CSV.\n",
    "#It has to be converted back into a datetime\n",
    "processed_collisions['c_datetime'] = pd.to_datetime(processed_collisions['c_datetime'])\n",
    "processed_buildings['b_issue_date'] = pd.to_datetime(processed_buildings['b_issue_date'])\n",
    "processed_buildings['b_final_date'] = pd.to_datetime(processed_buildings['b_final_date'])"
   ]
  },
  {
   "cell_type": "code",
   "execution_count": 9,
   "metadata": {},
   "outputs": [
    {
     "data": {
      "text/plain": [
       "Timestamp('2016-12-01 00:00:00')"
      ]
     },
     "execution_count": 9,
     "metadata": {},
     "output_type": "execute_result"
    },
    {
     "data": {
      "text/plain": [
       "Timestamp('2015-04-24 00:00:00')"
      ]
     },
     "execution_count": 9,
     "metadata": {},
     "output_type": "execute_result"
    }
   ],
   "source": [
    "#Create sample date from collisions and buildings\n",
    "sampledate1 = processed_collisions[\"c_datetime\"][1]\n",
    "sampledate2 = processed_buildings[\"b_issue_date\"][736]\n",
    "sampledate1\n",
    "sampledate2\n"
   ]
  },
  {
   "cell_type": "code",
   "execution_count": 10,
   "metadata": {},
   "outputs": [
    {
     "data": {
      "text/plain": [
       "True"
      ]
     },
     "execution_count": 10,
     "metadata": {},
     "output_type": "execute_result"
    }
   ],
   "source": [
    "#Using inequalities on dates\n",
    "sampledate1 > sampledate2"
   ]
  },
  {
   "cell_type": "code",
   "execution_count": 11,
   "metadata": {},
   "outputs": [
    {
     "data": {
      "text/plain": [
       "587"
      ]
     },
     "execution_count": 11,
     "metadata": {},
     "output_type": "execute_result"
    }
   ],
   "source": [
    "#Taking difference between dates\n",
    "sample_diff = sampledate1 - sampledate2\n",
    "np.abs(sample_diff.days)"
   ]
  }
 ],
 "metadata": {
  "kernelspec": {
   "display_name": "Python 3",
   "language": "python",
   "name": "python3"
  },
  "language_info": {
   "codemirror_mode": {
    "name": "ipython",
    "version": 3
   },
   "file_extension": ".py",
   "mimetype": "text/x-python",
   "name": "python",
   "nbconvert_exporter": "python",
   "pygments_lexer": "ipython3",
   "version": "3.6.3"
  }
 },
 "nbformat": 4,
 "nbformat_minor": 2
}
