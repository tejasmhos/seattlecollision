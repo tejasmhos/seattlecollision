{
 "cells": [
  {
   "cell_type": "code",
   "execution_count": 1,
   "metadata": {},
   "outputs": [],
   "source": [
    "import os\n",
    "import timestring\n",
    "import pandas as pd\n",
    "import numpy as np\n",
    "from geopy.distance import vincenty"
   ]
  },
  {
   "cell_type": "code",
   "execution_count": 2,
   "metadata": {},
   "outputs": [],
   "source": [
    "def collision_clean(file_path):\n",
    "  \"\"\"\n",
    "  Filters and removes unneeded observations from the collisions dataset\n",
    "  \"\"\"\n",
    "  if not os.path.exists(file_path):\n",
    "        raise ValueError('The file path is not valid')\n",
    "  collisions = pd.read_csv(file_path, sep=',', header=0)\n",
    "  collisions = collisions[[\"objectid\",\n",
    "                           \"X\",\n",
    "                           \"Y\",\n",
    "                           \"incdate\",\n",
    "                           \"incdttm\",\n",
    "                           \"pedcount\",\n",
    "                           \"pedcylcount\",\n",
    "                           \"severitycode\",\n",
    "                           \"severitydesc\"]]\n",
    "  collisions.dropna(inplace=True)\n",
    "  collisions = collisions.rename(columns={\"objectid\": \"c_id\",\n",
    "                                          \"X\": \"c_long\",\n",
    "                                          \"Y\":\"c_lat\",\n",
    "                                          \"incdate\": \"c_date\",\n",
    "                                          \"incdttm\":\"c_datetime\",\n",
    "                                          \"pedcount\": \"c_ped\",\n",
    "                                          \"pedcylcount\" : \"c_cyc\",\n",
    "                                          \"severitycode\" : \"c_severity_code\",\n",
    "                                          \"severitydesc\" : \"c_severity_desc\"})\n",
    "  collisions['c_veh'] = np.where(collisions['c_cyc'] == 0,\n",
    "                                 np.where(collisions['c_ped'] == 0, 1, 0), 0)\n",
    "  collisions.to_csv('collisions_clean.csv')\n",
    "  return collisions\n"
   ]
  },
  {
   "cell_type": "code",
   "execution_count": 3,
   "metadata": {},
   "outputs": [],
   "source": [
    "def buildings_clean(file_path):\n",
    "    \"\"\"Filters and removes unneeded observations from the Building Permits dataset\"\"\"\n",
    "    if not os.path.exists(file_path):\n",
    "        raise ValueError('The file path is not valid')\n",
    "    buildings = pd.read_csv(file_path, sep=',', header=0, index_col=0)\n",
    "    buildings = buildings[[\"Application/Permit Number\",\n",
    "                           \"Permit Type\",\n",
    "                           \"Category\",\n",
    "                           \"Action Type\",\n",
    "                           \"Work Type\",\n",
    "                           \"Value\",\n",
    "                           \"Issue Date\",\n",
    "                           \"Final Date\",\n",
    "                           \"Expiration Date\",\n",
    "                           \"Status\",\n",
    "                           \"Latitude\",\n",
    "                           \"Longitude\"]]\n",
    "    buildings = buildings[buildings[\"Action Type\"] == \"NEW\"]\n",
    "    buildings = buildings[buildings[\"Value\"] > 250000]\n",
    "    buildings = buildings[pd.notnull(buildings[\"Issue Date\"])]\n",
    "    buildings = buildings[pd.notnull(buildings[\"Final Date\"]) |\n",
    "                          pd.notnull(buildings[\"Expiration Date\"])]\n",
    "    buildings = buildings[buildings[\"Status\"] != \"CANCELLED\"]\n",
    "    buildings = buildings.rename(columns={\"Application/Permit Number\": \"b_id\",\n",
    "                                          \"Permit Type\": \"b_permit_type\",\n",
    "                                          \"Category\" : \"b_category\",\n",
    "                                          \"Action Type\" : \"b_action_type\",\n",
    "                                          \"Work Type\" : \"b_work_type\",\n",
    "                                          \"Value\": \"b_value\",\n",
    "                                          \"Issue Date\" : \"b_issue_date\",\n",
    "                                          \"Final Date\" : \"b_final_date\",\n",
    "                                          \"Expiration Date\" : \"b_expiration_date\",\n",
    "                                          \"Status\" : \"b_status\",\n",
    "                                          \"Latitude\" : \"b_latitude\",\n",
    "                                          \"Longitude\" : \"b_longitude\"})\n",
    "    buildings.to_csv('buildings_clean.csv')\n",
    "    return buildings\n"
   ]
  },
  {
   "cell_type": "code",
   "execution_count": 4,
   "metadata": {},
   "outputs": [],
   "source": [
    "def radius_table(collisions, buildings):\n",
    "    \"\"\"\n",
    "    Uses geopy's vincenty distance function to calculate collision distance\n",
    "    from each building site. Distance is recorded in feet.\n",
    "    \n",
    "    For all collisions within 1500 feet of a building site, a builing/collision\n",
    "    pair is added to the radius data table.\n",
    "    \n",
    "    Radius data table includes (for unique (building, collision) pairs):\n",
    "        build_id: (string) matches to buildings_clean table\n",
    "        coll_id: (string) mathces to collision_clean table\n",
    "        build_loc: (float, float) long/lat coordinate pair\n",
    "        build_start_dt: (datetime.datetime) date with time stripped\n",
    "        build_end_dt: (datetime.datetime) date with time stripped\n",
    "        coll_dt: (datetime.datetime) date with time stripped\n",
    "        coll_loc: (float, float) long/lat coordinate pair\n",
    "        radius: (float) distance in feet between building and collision\n",
    "    \"\"\"\n",
    "    rad_data = []\n",
    "    \n",
    "    for i,b in buildings.iterrows():\n",
    "        b_loc = (b[\"b_latitude\"], b[\"b_longitude\"])\n",
    "        for j,c in collisions.iterrows():\n",
    "            c_loc = (c[\"c_lat\"], c[\"c_long\"])\n",
    "            d = vincenty(b_loc, c_loc).ft\n",
    "            if d <= 1500:\n",
    "                rad_data.append({\n",
    "                    'build_id': b[\"b_id\"],\n",
    "                    'coll_id': c[\"c_id\"],\n",
    "                    'build_loc': b_loc,\n",
    "                    'build_start_dt': timestring.Date(b[\"b_issue_date\"]).date,\n",
    "                    'build_end_dt': timestring.Date(b[\"b_final_date\"]).date,\n",
    "                    'coll_dt': timestring.Date(c[\"c_datetime\"]).date,\n",
    "                    'coll_loc': c_loc,\n",
    "                    'radius': d\n",
    "                })\n",
    "            else:\n",
    "                pass\n",
    "            \n",
    "    # Export dataframe to csv\n",
    "    rads = pd.DataFrame(rad_data)\n",
    "    rads.to_csv(\"radius_clean.csv\")\n",
    "    return rads\n",
    "        "
   ]
  },
  {
   "cell_type": "code",
   "execution_count": 5,
   "metadata": {},
   "outputs": [],
   "source": [
    "colls = collision_clean(\"seattlecollision/data/Collisions.csv\")\n",
    "builds = buildings_clean('seattlecollision/data/clean_permits.csv')"
   ]
  },
  {
   "cell_type": "code",
   "execution_count": 6,
   "metadata": {},
   "outputs": [
    {
     "name": "stdout",
     "output_type": "stream",
     "text": [
      "Wall time: 3min 24s\n"
     ]
    }
   ],
   "source": [
    "%%time\n",
    "\n",
    "rads = radius_table(colls, builds.head())\n",
    "rads.shape"
   ]
  },
  {
   "cell_type": "code",
   "execution_count": 7,
   "metadata": {},
   "outputs": [
    {
     "data": {
      "text/html": [
       "<div>\n",
       "<style scoped>\n",
       "    .dataframe tbody tr th:only-of-type {\n",
       "        vertical-align: middle;\n",
       "    }\n",
       "\n",
       "    .dataframe tbody tr th {\n",
       "        vertical-align: top;\n",
       "    }\n",
       "\n",
       "    .dataframe thead th {\n",
       "        text-align: right;\n",
       "    }\n",
       "</style>\n",
       "<table border=\"1\" class=\"dataframe\">\n",
       "  <thead>\n",
       "    <tr style=\"text-align: right;\">\n",
       "      <th></th>\n",
       "      <th>build_end_dt</th>\n",
       "      <th>build_id</th>\n",
       "      <th>build_loc</th>\n",
       "      <th>build_start_dt</th>\n",
       "      <th>coll_dt</th>\n",
       "      <th>coll_id</th>\n",
       "      <th>coll_loc</th>\n",
       "      <th>radius</th>\n",
       "    </tr>\n",
       "  </thead>\n",
       "  <tbody>\n",
       "    <tr>\n",
       "      <th>0</th>\n",
       "      <td>2018-05-13</td>\n",
       "      <td>6552481</td>\n",
       "      <td>(47.58900409, -122.304421)</td>\n",
       "      <td>2017-06-06</td>\n",
       "      <td>2016-12-31 11:54:00</td>\n",
       "      <td>162244258</td>\n",
       "      <td>(47.591928735782034, -122.30851154024509)</td>\n",
       "      <td>1468.678126</td>\n",
       "    </tr>\n",
       "    <tr>\n",
       "      <th>1</th>\n",
       "      <td>2018-05-13</td>\n",
       "      <td>6552481</td>\n",
       "      <td>(47.58900409, -122.304421)</td>\n",
       "      <td>2017-06-06</td>\n",
       "      <td>2016-12-20 10:45:00</td>\n",
       "      <td>162244267</td>\n",
       "      <td>(47.58965910896437, -122.30677910424879)</td>\n",
       "      <td>629.053819</td>\n",
       "    </tr>\n",
       "    <tr>\n",
       "      <th>2</th>\n",
       "      <td>2018-05-13</td>\n",
       "      <td>6552481</td>\n",
       "      <td>(47.58900409, -122.304421)</td>\n",
       "      <td>2017-06-06</td>\n",
       "      <td>2016-12-04 08:10:00</td>\n",
       "      <td>162244296</td>\n",
       "      <td>(47.585020154303706, -122.30292070084373)</td>\n",
       "      <td>1499.648586</td>\n",
       "    </tr>\n",
       "    <tr>\n",
       "      <th>3</th>\n",
       "      <td>2018-05-13</td>\n",
       "      <td>6552481</td>\n",
       "      <td>(47.58900409, -122.304421)</td>\n",
       "      <td>2017-06-06</td>\n",
       "      <td>2017-06-17 02:38:00</td>\n",
       "      <td>162244575</td>\n",
       "      <td>(47.58849200541599, -122.3058896008914)</td>\n",
       "      <td>407.718078</td>\n",
       "    </tr>\n",
       "    <tr>\n",
       "      <th>4</th>\n",
       "      <td>2018-05-13</td>\n",
       "      <td>6552481</td>\n",
       "      <td>(47.58900409, -122.304421)</td>\n",
       "      <td>2017-06-06</td>\n",
       "      <td>2004-02-03 00:00:00</td>\n",
       "      <td>162244984</td>\n",
       "      <td>(47.588992204086274, -122.30516473950665)</td>\n",
       "      <td>183.585395</td>\n",
       "    </tr>\n",
       "  </tbody>\n",
       "</table>\n",
       "</div>"
      ],
      "text/plain": [
       "  build_end_dt  build_id                   build_loc build_start_dt  \\\n",
       "0   2018-05-13   6552481  (47.58900409, -122.304421)     2017-06-06   \n",
       "1   2018-05-13   6552481  (47.58900409, -122.304421)     2017-06-06   \n",
       "2   2018-05-13   6552481  (47.58900409, -122.304421)     2017-06-06   \n",
       "3   2018-05-13   6552481  (47.58900409, -122.304421)     2017-06-06   \n",
       "4   2018-05-13   6552481  (47.58900409, -122.304421)     2017-06-06   \n",
       "\n",
       "              coll_dt    coll_id                                   coll_loc  \\\n",
       "0 2016-12-31 11:54:00  162244258  (47.591928735782034, -122.30851154024509)   \n",
       "1 2016-12-20 10:45:00  162244267   (47.58965910896437, -122.30677910424879)   \n",
       "2 2016-12-04 08:10:00  162244296  (47.585020154303706, -122.30292070084373)   \n",
       "3 2017-06-17 02:38:00  162244575    (47.58849200541599, -122.3058896008914)   \n",
       "4 2004-02-03 00:00:00  162244984  (47.588992204086274, -122.30516473950665)   \n",
       "\n",
       "        radius  \n",
       "0  1468.678126  \n",
       "1   629.053819  \n",
       "2  1499.648586  \n",
       "3   407.718078  \n",
       "4   183.585395  "
      ]
     },
     "execution_count": 7,
     "metadata": {},
     "output_type": "execute_result"
    }
   ],
   "source": [
    "rads.head()"
   ]
  },
  {
   "cell_type": "code",
   "execution_count": 8,
   "metadata": {},
   "outputs": [
    {
     "data": {
      "text/plain": [
       "(4833, 12)"
      ]
     },
     "execution_count": 8,
     "metadata": {},
     "output_type": "execute_result"
    }
   ],
   "source": [
    "builds.shape"
   ]
  },
  {
   "cell_type": "code",
   "execution_count": null,
   "metadata": {},
   "outputs": [],
   "source": []
  },
  {
   "cell_type": "code",
   "execution_count": null,
   "metadata": {},
   "outputs": [],
   "source": []
  },
  {
   "cell_type": "code",
   "execution_count": null,
   "metadata": {},
   "outputs": [],
   "source": []
  },
  {
   "cell_type": "code",
   "execution_count": null,
   "metadata": {},
   "outputs": [],
   "source": []
  },
  {
   "cell_type": "code",
   "execution_count": null,
   "metadata": {},
   "outputs": [],
   "source": []
  },
  {
   "cell_type": "code",
   "execution_count": null,
   "metadata": {},
   "outputs": [],
   "source": []
  }
 ],
 "metadata": {
  "kernelspec": {
   "display_name": "Python 3",
   "language": "python",
   "name": "python3"
  },
  "language_info": {
   "codemirror_mode": {
    "name": "ipython",
    "version": 3
   },
   "file_extension": ".py",
   "mimetype": "text/x-python",
   "name": "python",
   "nbconvert_exporter": "python",
   "pygments_lexer": "ipython3",
   "version": "3.6.4"
  }
 },
 "nbformat": 4,
 "nbformat_minor": 2
}
