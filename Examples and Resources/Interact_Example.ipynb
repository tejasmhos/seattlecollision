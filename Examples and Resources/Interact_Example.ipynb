{
 "cells": [
  {
   "cell_type": "code",
   "execution_count": 1,
   "metadata": {},
   "outputs": [],
   "source": [
    "import folium\n",
    "import pandas as pd\n",
    "from ipywidgets import interact, interactive, fixed, interact_manual\n",
    "import ipywidgets as widgets"
   ]
  },
  {
   "cell_type": "code",
   "execution_count": 2,
   "metadata": {},
   "outputs": [
    {
     "name": "stderr",
     "output_type": "stream",
     "text": [
      "C:\\Users\\Alyssa\\Anaconda3\\envs\\collidiumenv\\lib\\site-packages\\pandas\\core\\indexing.py:357: SettingWithCopyWarning: \n",
      "A value is trying to be set on a copy of a slice from a DataFrame.\n",
      "Try using .loc[row_indexer,col_indexer] = value instead\n",
      "\n",
      "See the caveats in the documentation: http://pandas.pydata.org/pandas-docs/stable/indexing.html#indexing-view-versus-copy\n",
      "  self.obj[key] = _infer_fill_value(value)\n",
      "C:\\Users\\Alyssa\\Anaconda3\\envs\\collidiumenv\\lib\\site-packages\\pandas\\core\\indexing.py:537: SettingWithCopyWarning: \n",
      "A value is trying to be set on a copy of a slice from a DataFrame.\n",
      "Try using .loc[row_indexer,col_indexer] = value instead\n",
      "\n",
      "See the caveats in the documentation: http://pandas.pydata.org/pandas-docs/stable/indexing.html#indexing-view-versus-copy\n",
      "  self.obj[item] = s\n"
     ]
    }
   ],
   "source": [
    "with open('../seattlecollision/data/raw_data/Building_Permits___Current.csv',encoding='ascii',errors='ignore') as csvfile:\n",
    "    permits = pd.read_csv(csvfile)\n",
    "    short_permits1 = permits.head()\n",
    "    short_permits2 = permits.tail()\n",
    "    short_permits1.loc[:,'Accident_Count'] = [16,13,1,9,32]\n",
    "    short_permits2.loc[:,'Accident_Count'] = [5,5,5,5,5]"
   ]
  },
  {
   "cell_type": "code",
   "execution_count": 3,
   "metadata": {},
   "outputs": [],
   "source": [
    "def update_map(data_label):\n",
    "    map_object = folium.Map(location=[47.62118988, -122.2980787], zoom_start = 11)\n",
    "    if data_label == 'short_permits1':\n",
    "        data = short_permits1\n",
    "    elif data_label == 'short_permits2':\n",
    "        data = short_permits2\n",
    "    else:\n",
    "        return ValueError(\"Select a test dataframe.\")\n",
    "    for index, row in data.iterrows():\n",
    "        folium.CircleMarker(\n",
    "        location = [row['Latitude'], row['Longitude']],\n",
    "        radius=row['Accident_Count'],\n",
    "        fill_color='#132b5e'\n",
    "        ).add_to(map_object)\n",
    "    return map_object"
   ]
  },
  {
   "cell_type": "code",
   "execution_count": 4,
   "metadata": {
    "scrolled": true
   },
   "outputs": [
    {
     "data": {
      "application/vnd.jupyter.widget-view+json": {
       "model_id": "fd7177364e894a2e875c0bffc1d1580b",
       "version_major": 2,
       "version_minor": 0
      },
      "text/plain": [
       "interactive(children=(Dropdown(description='data_label', options=('short_permits1', 'short_permits2'), value='…"
      ]
     },
     "metadata": {},
     "output_type": "display_data"
    },
    {
     "data": {
      "text/plain": [
       "<function __main__.update_map(data_label)>"
      ]
     },
     "execution_count": 4,
     "metadata": {},
     "output_type": "execute_result"
    }
   ],
   "source": [
    "interact(update_map,data_label=['short_permits1','short_permits2'])"
   ]
  },
  {
   "cell_type": "code",
   "execution_count": null,
   "metadata": {
    "collapsed": true
   },
   "outputs": [],
   "source": []
  }
 ],
 "metadata": {
  "kernelspec": {
   "display_name": "collidium",
   "language": "python",
   "name": "collidium"
  },
  "language_info": {
   "codemirror_mode": {
    "name": "ipython",
    "version": 3
   },
   "file_extension": ".py",
   "mimetype": "text/x-python",
   "name": "python",
   "nbconvert_exporter": "python",
   "pygments_lexer": "ipython3",
   "version": "3.6.5"
  }
 },
 "nbformat": 4,
 "nbformat_minor": 2
}
