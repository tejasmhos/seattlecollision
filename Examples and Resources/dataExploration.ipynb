{
 "cells": [
  {
   "cell_type": "markdown",
   "metadata": {},
   "source": [
    "### Intention of this notebook: \n",
    "This notebook is used to conduct data exploration, and find options to join the collision and building permit data sets. It first does some basic data cleaning, including changing data types where necessary and filtering out some unneeded data.\n",
    "\n",
    "It then explores possibilities of joining the data using distance between building permits and collisions. "
   ]
  },
  {
   "cell_type": "code",
   "execution_count": 212,
   "metadata": {
    "collapsed": true
   },
   "outputs": [],
   "source": [
    "import math\n",
    "import timeit\n",
    "import numpy as np\n",
    "import pandas as pd\n",
    "import re\n",
    "from datetime import datetime \n",
    "\n",
    "collisions = pd.read_csv('Collisions.csv')\n",
    "permits = pd.read_csv('Building_Permits___Current.csv')\n",
    "\n",
    "# Clean data sets by changing data types (e.g., object to float or date type) and clarifying headers\n",
    "\n",
    "#rename colunts X and Y to Longitude and Latitude for clarity\n",
    "collisions = collisions.rename(index=str, columns={\"X\": \"Longitude\", \"Y\": \"Latitude\"})\n",
    "\n",
    "#Turn date strings into datetime objects:\n",
    "collisions['incdate'] = pd.to_datetime(collisions['incdate'], format='%Y-%m-%dT%H:%M:%S.%fZ')\n",
    "permits['Issue Date']= pd.to_datetime(permits['Issue Date'], format='%m/%d/%Y')\n",
    "permits['Final Date']= pd.to_datetime(permits['Final Date'], format='%m/%d/%Y')\n",
    "permits['Expiration Date']= pd.to_datetime(permits['Expiration Date'], format='%m/%d/%Y')\n",
    "permits['Application Date']= pd.to_datetime(permits['Application Date'], format='%m/%d/%Y')\n",
    "\n",
    "# Change permit value from type Object to Type float, so we can choose permits above a specified value\n",
    "permits['Value'] = permits['Value'].map(lambda x: x.lstrip('$'))\n",
    "permits['Value'] =permits['Value'].str.replace(',', '').astype(float)\n",
    "\n"
   ]
  },
  {
   "cell_type": "code",
   "execution_count": 293,
   "metadata": {},
   "outputs": [],
   "source": [
    "# Learn what permit types are. I think we are most interested in \"New\" construction\n",
    "permit_types = set(permits['Action Type'])\n",
    "\n",
    "# Filter permits to those we care most about. I choose new, and with cost of >$1M\n",
    "new_permits = permits[permits['Action Type'] == 'NEW']\n",
    "new_big_permits = new_permits[new_permits['Value'] > 1000000]\n",
    "\n",
    "# Filter to include only permits with status issued or closed (this removes permits that haven't started building, or that never will)\n",
    "new_big_permits_constructed = new_big_permits[new_big_permits['Status'].isin(['Permit Issued', 'Permit Closed'])] "
   ]
  },
  {
   "cell_type": "code",
   "execution_count": 294,
   "metadata": {},
   "outputs": [
    {
     "data": {
      "text/plain": [
       "775"
      ]
     },
     "execution_count": 294,
     "metadata": {},
     "output_type": "execute_result"
    }
   ],
   "source": [
    "len(new_big_permits_constructed)"
   ]
  },
  {
   "cell_type": "code",
   "execution_count": 214,
   "metadata": {
    "collapsed": true
   },
   "outputs": [],
   "source": [
    "#This is the formula to calculate the distance, in miles betweent two lat/lon coordinates\n",
    "\n",
    "def haversine(lat1, lon1, lat2, lon2):\n",
    "    '''Calculates the distance in miles between two latitude/longitude coordinates.\n",
    "    \n",
    "    inputs: \n",
    "        lat1 = float, latitude of coordinate 1\n",
    "        lon1 = float, longitude of coordinate 1\n",
    "        lat2 = float, latitude of coordinate 2\n",
    "        lon1 = float, longitude of coordinate 2\n",
    "    \n",
    "    returns: \n",
    "        float, distance betweet coordinate 1 and coordiante 2 in miles\n",
    "    \n",
    "    Note: \n",
    "    RADIUS is a global variable for the radius of the earth in miles, at the approximate latitude of the coordinates\n",
    "'''\n",
    "    #RADIUS is the radius of the earth at the latitude of Seattle\n",
    "    RADIUS = 3955\n",
    "    lat1, lon1, lat2, lon2 = map(np.deg2rad, [lat1, lon1, lat2, lon2])\n",
    "    dlat = lat2 - lat1 \n",
    "    dlon = lon2 - lon1 \n",
    "    a = np.sin(dlat/2)**2 + np.cos(lat1) * np.cos(lat2) * np.sin(dlon/2)**2\n",
    "    c = 2 * np.arcsin(np.sqrt(a)) \n",
    "    total_miles = RADIUS * c\n",
    "    return total_miles\n",
    "\n",
    "# Source: https://engineering.upside.com/a-beginners-guide-to-optimizing-pandas-code-for-speed-c09ef2c6a4d6"
   ]
  },
  {
   "cell_type": "code",
   "execution_count": 310,
   "metadata": {},
   "outputs": [],
   "source": [
    "# Creating shorter data frames to use to test functions. Running the whole data frame takes a long time. \n",
    "short_collisions = collisions.head()\n",
    "short_permits = new_big_permits.head(25)\n"
   ]
  },
  {
   "cell_type": "code",
   "execution_count": 145,
   "metadata": {},
   "outputs": [],
   "source": [
    "# This function finds the closest permit to each collision\n",
    "\n",
    "def find_closest_permit(collisions, buildings):\n",
    "    '''Finds the distance of the nearest building permit to each collision\n",
    "    \n",
    "    inputs: \n",
    "        collisions: pandas.DataFrame with data on collisions\n",
    "        buildings: pandas.DataFrame with data on building permits\n",
    "    \n",
    "    outputs: \n",
    "        :array of minimum distance to a building permit of each collision. Array 1 x length of collision data\n",
    "    '''\n",
    "    min_dists = []\n",
    "    for index, row in collisions.iterrows():\n",
    "        Lat = row['Latitude']\n",
    "        Lon = row['Longitude']\n",
    "        dists = haversine( Lat, Lon, buildings['Latitude'], buildings['Longitude'])\n",
    "        min_dists.append(dists.min())\n",
    "    return min_dists\n"
   ]
  },
  {
   "cell_type": "code",
   "execution_count": 162,
   "metadata": {},
   "outputs": [],
   "source": [
    "\n",
    "distances = find_closest_permit(collisions, new_big_permits)\n",
    "collisions['Dist to nearest permit'] = distances"
   ]
  },
  {
   "cell_type": "code",
   "execution_count": 286,
   "metadata": {},
   "outputs": [],
   "source": [
    "\n",
    "\n",
    "def count_nearby_collisions(collisions, buildings, distance):\n",
    "    ''' Counts how many collisions occured before, during and after the construction of each building permit\n",
    "    \n",
    "    inputs: \n",
    "        collisions: pandas dataframe with details of each collision, including location and date\n",
    "        buildings: pandas dataframe with details of each building permit\n",
    "        distance: float, radius from location of building permit for which user wishes to count collisions\n",
    "        \n",
    "    outputs:\n",
    "        count_before: array, count of number of collisions that occured within specified radius before each building was constructed\n",
    "        count_during: array, count of number of collisions that occured while specified building was under construction\n",
    "        count_after: a count of number of collisions that occured within specified radius after building was constructed\n",
    "        '''\n",
    "    count_before = np.zeros(len(buildings))\n",
    "    count_during = np.zeros(len(buildings))\n",
    "    count_after = np.zeros(len(buildings))\n",
    "    i = 0\n",
    "    \n",
    "    for index, row in buildings.iterrows():\n",
    "#         print(row)\n",
    "        Lat = row['Latitude']\n",
    "        Lon = row['Longitude']\n",
    "        dists = haversine( Lat, Lon, collisions['Latitude'], collisions['Longitude'])\n",
    "        \n",
    "        for j in range(0,len(dists)):\n",
    "            if dists[j] > distance:\n",
    "                continue\n",
    "            else:\n",
    "                if collisions.incdate[j] < row['Issue Date']:\n",
    "                    count_before[i] += 1 \n",
    "                elif (collisions.incdate[j] > row['Issue Date']) and collisions.incdate[j] < row['Final Date']:\n",
    "                    count_during[i] += 1 \n",
    "                elif (collisions.incdate[j] > row['Issue Date']) and (str(row['Final Date']) == 'NaT'):\n",
    "                    count_during[i] += 1 \n",
    "                elif collisions.incdate[j] > row['Final Date']:\n",
    "                    count_after[i] += 1 \n",
    "           \n",
    "        i += 1\n",
    "    return count_before, count_during, count_after\n"
   ]
  },
  {
   "cell_type": "code",
   "execution_count": 303,
   "metadata": {
    "scrolled": true
   },
   "outputs": [],
   "source": [
    "collisions_before, collisions_during, collisions_after = count_nearby_collisions(collisions, new_big_permits_constructed,.1)"
   ]
  },
  {
   "cell_type": "code",
   "execution_count": 307,
   "metadata": {},
   "outputs": [
    {
     "name": "stderr",
     "output_type": "stream",
     "text": [
      "C:\\Users\\Alyssa\\Anaconda3\\lib\\site-packages\\ipykernel\\__main__.py:1: SettingWithCopyWarning: \n",
      "A value is trying to be set on a copy of a slice from a DataFrame.\n",
      "Try using .loc[row_indexer,col_indexer] = value instead\n",
      "\n",
      "See the caveats in the documentation: http://pandas.pydata.org/pandas-docs/stable/indexing.html#indexing-view-versus-copy\n",
      "  if __name__ == '__main__':\n",
      "C:\\Users\\Alyssa\\Anaconda3\\lib\\site-packages\\ipykernel\\__main__.py:2: SettingWithCopyWarning: \n",
      "A value is trying to be set on a copy of a slice from a DataFrame.\n",
      "Try using .loc[row_indexer,col_indexer] = value instead\n",
      "\n",
      "See the caveats in the documentation: http://pandas.pydata.org/pandas-docs/stable/indexing.html#indexing-view-versus-copy\n",
      "  from ipykernel import kernelapp as app\n",
      "C:\\Users\\Alyssa\\Anaconda3\\lib\\site-packages\\ipykernel\\__main__.py:3: SettingWithCopyWarning: \n",
      "A value is trying to be set on a copy of a slice from a DataFrame.\n",
      "Try using .loc[row_indexer,col_indexer] = value instead\n",
      "\n",
      "See the caveats in the documentation: http://pandas.pydata.org/pandas-docs/stable/indexing.html#indexing-view-versus-copy\n",
      "  app.launch_new_instance()\n"
     ]
    }
   ],
   "source": [
    "# Append the count of collisions before, during and after the building was constructed to the permit data\n",
    "\n",
    "new_big_permits_constructed['Collisions before'] = collisions_before\n",
    "new_big_permits_constructed['Collisions during'] = collisions_during\n",
    "new_big_permits_constructed['Collisions after'] = collisions_after\n"
   ]
  },
  {
   "cell_type": "code",
   "execution_count": 309,
   "metadata": {},
   "outputs": [],
   "source": [
    "new_big_permits_constructed.to_csv('big_permits.csv')"
   ]
  },
  {
   "cell_type": "code",
   "execution_count": null,
   "metadata": {
    "collapsed": true
   },
   "outputs": [],
   "source": []
  }
 ],
 "metadata": {
  "kernelspec": {
   "display_name": "Python 3",
   "language": "python",
   "name": "python3"
  },
  "language_info": {
   "codemirror_mode": {
    "name": "ipython",
    "version": 3
   },
   "file_extension": ".py",
   "mimetype": "text/x-python",
   "name": "python",
   "nbconvert_exporter": "python",
   "pygments_lexer": "ipython3",
   "version": "3.6.4"
  }
 },
 "nbformat": 4,
 "nbformat_minor": 2
}
